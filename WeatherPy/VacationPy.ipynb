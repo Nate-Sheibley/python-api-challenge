{
 "cells": [
  {
   "cell_type": "markdown",
   "metadata": {},
   "source": [
    "# VacationPy\n",
    "---\n",
    "\n",
    "## Starter Code to Import Libraries and Load the Weather and Coordinates Data"
   ]
  },
  {
   "cell_type": "code",
   "execution_count": 5,
   "metadata": {},
   "outputs": [],
   "source": [
    "# Dependencies and Setup\n",
    "import hvplot.pandas\n",
    "import pandas as pd\n",
    "import requests\n",
    "\n",
    "import geoviews as gv\n",
    "import geoviews.feature as gf\n",
    "from geoviews import dim, opts\n",
    "from cartopy import crs\n",
    "import geoviews.tile_sources as gts\n",
    "\n",
    "\n",
    "# Import API key\n",
    "from api_keys import geoapify_key"
   ]
  },
  {
   "cell_type": "code",
   "execution_count": 6,
   "metadata": {},
   "outputs": [
    {
     "data": {
      "text/html": [
       "<div>\n",
       "<style scoped>\n",
       "    .dataframe tbody tr th:only-of-type {\n",
       "        vertical-align: middle;\n",
       "    }\n",
       "\n",
       "    .dataframe tbody tr th {\n",
       "        vertical-align: top;\n",
       "    }\n",
       "\n",
       "    .dataframe thead th {\n",
       "        text-align: right;\n",
       "    }\n",
       "</style>\n",
       "<table border=\"1\" class=\"dataframe\">\n",
       "  <thead>\n",
       "    <tr style=\"text-align: right;\">\n",
       "      <th></th>\n",
       "      <th>City_ID</th>\n",
       "      <th>City</th>\n",
       "      <th>Lat</th>\n",
       "      <th>Lng</th>\n",
       "      <th>Max Temp</th>\n",
       "      <th>Humidity</th>\n",
       "      <th>Cloudiness</th>\n",
       "      <th>Wind Speed</th>\n",
       "      <th>Country</th>\n",
       "      <th>Date</th>\n",
       "    </tr>\n",
       "  </thead>\n",
       "  <tbody>\n",
       "    <tr>\n",
       "      <th>0</th>\n",
       "      <td>0</td>\n",
       "      <td>hami</td>\n",
       "      <td>42.8000</td>\n",
       "      <td>93.4500</td>\n",
       "      <td>28.24</td>\n",
       "      <td>13</td>\n",
       "      <td>26</td>\n",
       "      <td>4.16</td>\n",
       "      <td>CN</td>\n",
       "      <td>1717216071</td>\n",
       "    </tr>\n",
       "    <tr>\n",
       "      <th>1</th>\n",
       "      <td>1</td>\n",
       "      <td>adamstown</td>\n",
       "      <td>-25.0660</td>\n",
       "      <td>-130.1015</td>\n",
       "      <td>20.25</td>\n",
       "      <td>63</td>\n",
       "      <td>85</td>\n",
       "      <td>2.40</td>\n",
       "      <td>PN</td>\n",
       "      <td>1717216071</td>\n",
       "    </tr>\n",
       "    <tr>\n",
       "      <th>2</th>\n",
       "      <td>2</td>\n",
       "      <td>college</td>\n",
       "      <td>64.8569</td>\n",
       "      <td>-147.8028</td>\n",
       "      <td>20.99</td>\n",
       "      <td>36</td>\n",
       "      <td>75</td>\n",
       "      <td>5.66</td>\n",
       "      <td>US</td>\n",
       "      <td>1717216071</td>\n",
       "    </tr>\n",
       "    <tr>\n",
       "      <th>3</th>\n",
       "      <td>3</td>\n",
       "      <td>port-aux-francais</td>\n",
       "      <td>-49.3500</td>\n",
       "      <td>70.2167</td>\n",
       "      <td>4.67</td>\n",
       "      <td>77</td>\n",
       "      <td>96</td>\n",
       "      <td>14.03</td>\n",
       "      <td>TF</td>\n",
       "      <td>1717216071</td>\n",
       "    </tr>\n",
       "    <tr>\n",
       "      <th>4</th>\n",
       "      <td>4</td>\n",
       "      <td>koungou</td>\n",
       "      <td>-12.7336</td>\n",
       "      <td>45.2042</td>\n",
       "      <td>26.84</td>\n",
       "      <td>78</td>\n",
       "      <td>20</td>\n",
       "      <td>7.72</td>\n",
       "      <td>YT</td>\n",
       "      <td>1717216071</td>\n",
       "    </tr>\n",
       "  </tbody>\n",
       "</table>\n",
       "</div>"
      ],
      "text/plain": [
       "   City_ID               City      Lat       Lng  Max Temp  Humidity  \\\n",
       "0        0               hami  42.8000   93.4500     28.24        13   \n",
       "1        1          adamstown -25.0660 -130.1015     20.25        63   \n",
       "2        2            college  64.8569 -147.8028     20.99        36   \n",
       "3        3  port-aux-francais -49.3500   70.2167      4.67        77   \n",
       "4        4            koungou -12.7336   45.2042     26.84        78   \n",
       "\n",
       "   Cloudiness  Wind Speed Country        Date  \n",
       "0          26        4.16      CN  1717216071  \n",
       "1          85        2.40      PN  1717216071  \n",
       "2          75        5.66      US  1717216071  \n",
       "3          96       14.03      TF  1717216071  \n",
       "4          20        7.72      YT  1717216071  "
      ]
     },
     "execution_count": 6,
     "metadata": {},
     "output_type": "execute_result"
    }
   ],
   "source": [
    "# Load the CSV file created in Part 1 into a Pandas DataFrame\n",
    "city_data_df = pd.read_csv(\"output_data/cities.csv\")\n",
    "\n",
    "# Display sample data\n",
    "city_data_df.head()"
   ]
  },
  {
   "cell_type": "markdown",
   "metadata": {},
   "source": [
    "---\n",
    "\n",
    "### Step 1: Create a map that displays a point for every city in the `city_data_df` DataFrame. The size of the point should be the humidity in each city."
   ]
  },
  {
   "cell_type": "code",
   "execution_count": 7,
   "metadata": {},
   "outputs": [
    {
     "data": {},
     "metadata": {},
     "output_type": "display_data"
    },
    {
     "data": {
      "application/vnd.holoviews_exec.v0+json": "",
      "text/html": [
       "<div id='p1111'>\n",
       "  <div id=\"a64b49c1-e60e-4542-8685-e6c06112bbf5\" data-root-id=\"p1111\" style=\"display: contents;\"></div>\n",
       "</div>\n",
       "<script type=\"application/javascript\">(function(root) {\n",
       "  var docs_json = {\"6ddc050f-4b91-4111-a2cb-c3b31251c0db\":{\"version\":\"3.4.1\",\"title\":\"Bokeh Application\",\"roots\":[{\"type\":\"object\",\"name\":\"Row\",\"id\":\"p1111\",\"attributes\":{\"name\":\"Row01813\",\"tags\":[\"embedded\"],\"stylesheets\":[\"\\n:host(.pn-loading):before, .pn-loading:before {\\n  background-color: #c3c3c3;\\n  mask-size: auto calc(min(50%, 400px));\\n  -webkit-mask-size: auto calc(min(50%, 400px));\\n}\",{\"type\":\"object\",\"name\":\"ImportedStyleSheet\",\"id\":\"p1114\",\"attributes\":{\"url\":\"https://cdn.holoviz.org/panel/1.4.4/dist/css/loading.css\"}},{\"type\":\"object\",\"name\":\"ImportedStyleSheet\",\"id\":\"p1202\",\"attributes\":{\"url\":\"https://cdn.holoviz.org/panel/1.4.4/dist/css/listpanel.css\"}},{\"type\":\"object\",\"name\":\"ImportedStyleSheet\",\"id\":\"p1112\",\"attributes\":{\"url\":\"https://cdn.holoviz.org/panel/1.4.4/dist/bundled/theme/default.css\"}},{\"type\":\"object\",\"name\":\"ImportedStyleSheet\",\"id\":\"p1113\",\"attributes\":{\"url\":\"https://cdn.holoviz.org/panel/1.4.4/dist/bundled/theme/native.css\"}}],\"min_width\":1200,\"margin\":0,\"sizing_mode\":\"stretch_width\",\"align\":\"start\",\"children\":[{\"type\":\"object\",\"name\":\"Spacer\",\"id\":\"p1115\",\"attributes\":{\"name\":\"HSpacer01819\",\"stylesheets\":[\"\\n:host(.pn-loading):before, .pn-loading:before {\\n  background-color: #c3c3c3;\\n  mask-size: auto calc(min(50%, 400px));\\n  -webkit-mask-size: auto calc(min(50%, 400px));\\n}\",{\"id\":\"p1114\"},{\"id\":\"p1112\"},{\"id\":\"p1113\"}],\"margin\":0,\"sizing_mode\":\"stretch_width\",\"align\":\"start\"}},{\"type\":\"object\",\"name\":\"Figure\",\"id\":\"p1144\",\"attributes\":{\"width\":1200,\"height\":700,\"margin\":[5,10],\"sizing_mode\":\"fixed\",\"align\":\"start\",\"x_range\":{\"type\":\"object\",\"name\":\"Range1d\",\"id\":\"p1125\",\"attributes\":{\"tags\":[[[\"Longitude\",\"Longitude\",null]],[]],\"start\":-22155226.092110794,\"end\":22290657.3846099,\"reset_start\":-22155226.092110794,\"reset_end\":22290657.3846099,\"min_interval\":5}},\"y_range\":{\"type\":\"object\",\"name\":\"Range1d\",\"id\":\"p1126\",\"attributes\":{\"tags\":[[[\"Latitude\",\"Latitude\",null]],{\"type\":\"map\",\"entries\":[[\"invert_yaxis\",false],[\"autorange\",false]]}],\"start\":-9504139.925670017,\"end\":16667782.964865487,\"reset_start\":-9504139.925670017,\"reset_end\":16667782.964865487,\"min_interval\":5}},\"x_scale\":{\"type\":\"object\",\"name\":\"LinearScale\",\"id\":\"p1154\"},\"y_scale\":{\"type\":\"object\",\"name\":\"LinearScale\",\"id\":\"p1155\"},\"title\":{\"type\":\"object\",\"name\":\"Title\",\"id\":\"p1147\",\"attributes\":{\"text_color\":\"black\",\"text_font_size\":\"12pt\"}},\"renderers\":[{\"type\":\"object\",\"name\":\"TileRenderer\",\"id\":\"p1177\",\"attributes\":{\"level\":\"underlay\",\"tile_source\":{\"type\":\"object\",\"name\":\"WMTSTileSource\",\"id\":\"p1173\",\"attributes\":{\"url\":\"https://c.tile.openstreetmap.org/{Z}/{X}/{Y}.png\",\"attribution\":\"&copy; <a href=\\\"https://www.openstreetmap.org/copyright\\\">OpenStreetMap</a> contributors\"}}}},{\"type\":\"object\",\"name\":\"GlyphRenderer\",\"id\":\"p1191\",\"attributes\":{\"name\":\"fill_color\",\"data_source\":{\"type\":\"object\",\"name\":\"ColumnDataSource\",\"id\":\"p1182\",\"attributes\":{\"selected\":{\"type\":\"object\",\"name\":\"Selection\",\"id\":\"p1183\",\"attributes\":{\"indices\":[],\"line_indices\":[]}},\"selection_policy\":{\"type\":\"object\",\"name\":\"UnionRenderers\",\"id\":\"p1184\"},\"data\":{\"type\":\"map\",\"entries\":[[\"Lng\",{\"type\":\"ndarray\",\"array\":{\"type\":\"bytes\",\"data\":\"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\"},\"shape\":[577],\"dtype\":\"float64\",\"order\":\"little\"}],[\"Lat\",{\"type\":\"ndarray\",\"array\":{\"type\":\"bytes\",\"data\":\"n1XQy8olVEFUvGG1hgBGwXrkilw7QWJBR3zTxf4pWMGi0G7pQM81wQzc9AQLaSJBdBft0TEzR0GFvjd0AL9jQaN0oheJsmVBPoD+kpCjXEFS0RVKQ8dYQZhHL/lBZVbBwfXWgkWOW8GIH3ekvCcgwUhDFzpwomRBzTImPuh9T8HxGw2xaI9hQQngD2yjIFpB5wogY0X4UMGvVJbuOAhUQdf5CF3VKk/BXnvzTkaMMUHXLhqpxEhPwcPGNtDyGmFBowB3IpkgLcHEvQDrEHBCwcZsivegOV5Bo9ToDHq+WsGXfDRBUtJUwbA4+RDeMTNBGeNkFOf6Q0FQincJbcYnwfF188SAq1pBWZkIINNlNcHheKjOLV1GQYfi2tyUAULB7MjXoExnTUEB2l5i5bZYQYO/niLb1VhBlntKuoj5QEEBTfh85mYzQfjwYh3Iuz7Bczb+h5ULA8EBGaYLvzhGwX46bpAXwFnBxQI5jZgGU0EV1SydI1RgQc6kZ4LwsiRBufal2B9hUcEHv4mi1s1IQXFN+in4+ETBVhFLaBV3U0GFxRgOh30gQQm0ema+7DzBfgPqmO4yP8EIQWztl7AtQcUlDUzeGVFBcjw5e08OQcFipIGIzBf0wIQ/JzHF3VFBSsUY8Zf0M0HVgcd4Zs40wcauGUDxVz/BZl3pq98SU0GDB1w02TU+wZBY2qKC71vBDMFl62fiTEFGiGfW5bZWQUCDT+kWDzdBpVIxSLJKW0EKcVV5Z0BfQQ87T+F6rkNBENGwrTkcTEEnUj0ufFRTQeWD2bCB3VlB2l6kaFj8W0FTMXfnymIpQc81kmDTDmNBRXEitknSQ0En6UzQSSofQZKb0QyyHFJBvUqsEYe2YUH83ZOG9EVUwdOT8r2goWtBONCPHfOkPsECFWwcpa9OwW58Nus2I1TBmrst8PnWV0E70Aw3dC1CQTlhUh5OHGJBiAfkDmAkQ0HL/CeZGZUnQTP4d4ibIEJB+hE0If9kSUH9LcmRxH1WQRyk2RMkHjNBohfURPqcU8GIccCVwqcwQYWdJlrrdk5BWgAFmPVSVEHVz3W/SzRmQX2NAHORoGNB4Kd8yj/ANkELtUT+JPFHQRujUV5Cp07BrwwN8EhrU0HNREadPZ0TwbRiXk9OdVdBftY6jtxHWUGdBC2qV/hFwfCRgmY1GkpB3LAeYMIeOsHx+dAwosFYQcTeglhX80ZB7MrwzM/WQkH/MMI0PgBXQTvvkKimA1NB6G0dteyUAkFkYtusFNVCwawdyiIf815B5c3mpRBGRMFsmj9x0lE8weuzd7ayS1bByaIdaNGLOEFPrVrXK4tJwcO7GSm+HTZBZSiF5f9kT0Gj+nO/WkNRwRKjr6BzA1xBBbh0SIi/ZEEdQ4x42HcuQeNUQ2E5v1RBsVIXjspIRsFsgD5v/edPQXTyk5IMuVNB89TGtUcuYEH783Q/O9JiQTeLrN++KVtBYynG5IPoTsFRXK8S7NVhQXpS5iYWgFJB+o08uY2cSEFmRCxnzRU/QdhcqdHvUjdBWI+IuVeyUUEaGH/ZAz9eQQXMtr04L0pBuvn53rlrXkGGn9CuNFRgQfCYRKMDOUNBwL6yNRwEP0FRlNkFLGdUQbuXMf+cyi9BDgZuQh2zUEHPIuIzAfVjQR8IQWzF3FpB31ugwqcMRMHR1KWsubFJQUfUqH8pNETBwUakuldbO8EHf8FW4bohQb+mlnHNM2FBT9ASJlXIR0Fs2GzX9TliQVnQHd5pDFFB/iuY8k15WkHiRpL4/MwxwQlNhGVgzVxB3cWeSrrQRcEyF2MW/QpAQVTZtFa5v0dBHlymTmEDNEFmc5xG4XViQfHLIABLX0TByKZwsOhjXUEEJBK7vStWQZvrJpJXDFLBN9r2YQW7UEE2fZA4QZQ4QXKsp1+zc1RBai+xFbIQBUEzRAhnna8hwWYiM40J1jzBzRGwQ/qbTMFNoJGQcoo5QYkXsDjgfDjBG5A4VoUJQEGIUrPyi+YhQT53E2Ohv1FB66HnttK2OsFVWKeYpFFOwfu2vooZcCvBhT/U5ML/RkHB8UGC06gxQf8BEYT9qTVB7qeTDtZVNcEgyd9WGjotQaKBSKpfNkxBaTxcp6UxMEG1Z4LsFOc5wasEsij7H1pB4EDVJ4x688C6rwnkJ8tSQcP73mxTqGRBjgCDd3VdTUFhRbzuYOhKwcKNm6MJ6SJB3ArGB6g9SkE88AbsOUtcQbIAb84yM2BB1T7QPF4dUUGbM0GLdpBNQcOWvtwJ7ktBf7W4uPwXRUFXjaXFJhFRwWHFhWR/Q2NBN5GJIhkKVMGVaf9TDyFLQRJI5yOfFB3Bje/xVenoWUEm9uiZVKlAwWXXWvfoklNBsZHueQhrO0FfXM2UsghVQdXwTJKKPFJBfKUouXlWLEEUHkcvEcghwQ/eGzXPq1HBlEszEnHTV0HRgA2QuDNRQbIoy4LI4GJBVzsI75c2WUHf5eEuJipUQarsagJYwVZBuPS5LPe/QsHQEX7qJ3tPQTuPOtdZDUBBhRyKsle9SEEnDmII//oWQWzKSmxvUUnB14Fob7ksRkGGC7vm2KRdQY5lCd2fclhBuEHRhuaFUcFmhxWbu+RXQcB0HgvUBU1BCa6Cxs6WWkHgv3GbqBZNQXGU6HsATCvB3jSmKji+U0Gmq8HBtr1jQQfkD6p6r1XBrmG9fwSGX0GOwWEsx7NDQVP+xLEKp1JB+lXRakbFQEG3RU0CjjJFQYyzmjVXIlRBVuacKxx3EsEV3sWuaXhRwennlp6nnivBHCuFQMBcW0Hmez3g1mYfwbEflNfHH0lBV0GwWj6VU0H7no9KdwI6QX9XAkxzAzDBw0eXof9FXkGQhxJjW0YvwaKhdFzsiTzBcYozvAbMZEHO709xhe49QeYeHCahRz3BQjI7bRT4U0E4fOx24JJEwbBWDkYgTlZBXgK67iLBHUF1rX9igelPQfJPY430eEZBwioFLTyZE8EaAzQUzlBGwf/xT7F9E1VBb38i9qFBYUF4HLEzpfxQQYpjRg51bU7Bf6vTTm4AUMHYfMPEVwBBQRHZjbsI0VjBRo3XWnVWXEFUBse41bBfQZer0/07Z1NBhngfI9NPIcEMBVFzWUxVQawxfv0IdjpBV88V0XAWXEEFzzoqi35AwSaWA2NPihtBrLWtp8PRNsFuHi3Znb5FwV/oGF9/TULBPeobcEulY0Gkt0AotuAOwQK6filEDivBrtdGauV3TEEu6sk/woskQcMZH+WfCkTB7K7Is4HtLEFB5WGvN+BIQdQKLdgkfTBBJXwpDxf1VEE2V7dLM9glwTfEDkQXk1TBmuci/GfMR0E87nLyEk9UQQfR4twctllBsBkwZQoGUUHoRjEIfqQpQfReSF4J+FXB/vSei4cBVUFkenxq3R5Twb1+amzxn0nBEQAm8IwLYkEtHnWsRypPQf5Etulpnl1BFyEZd0WtX0HyHF89bApKQSAKSR5RR1ZBMdpNfvCMXUE5yrmYN1JOQcB1T2urvDnB3geFxmVGPMHLN/qEylpHQfkrNx0/hFlBiSRuhfF7XUHMY8d9FlFRQSunADp0iSFBwL6yNRwEP0ERQe6Y9JxRwdunr5FmqUzBwvcSRsTIQ0E5kXBvlNliQe9QOKSvMFdBQLFcqzs2LcGhk9ux9cJYQYkA2Ow+Rl1B3mEDv/IaUcFnTcoIIilZQbsHityWHypBkTj1UdTpOEEUWnhv6rRiQRuxnZf6dfjAzyQ7n3tSVEG9AVj+dAM6QQf/vtHWtf9AAYVlnsfYG0HaVzYBOSA7wUl+vDkT+1xBnY3JX0tsT0F9gLq6OLA8QfWmGyX2OkNB8ua556ANUUGAr40VbMRYQQrcFr8t7TNBwQh8qAriREGQWDJxUShcQajA7WaiSWJBBjoD3FrSUkE6XPtiEz0swU/F75FEtlhBfvcZWAEGXUESy8cQxZRHQdVkwDtP4iLBnOQRqHMEQUHJpzbElTZbQTdaU/8l+FBBGC0WrPAYYkG6zFXdeQ0jQdFUgi/doEHBQ1cEMZiOU0FQeuNs3xQeQTbaCfnzAkvBaZYlGsn2S8E7o/PgIYlYQSrHaemSUBlBdjUHC/cxMkHCGbsQ5v4MwfTKKB2m8D/BiCBWn+x+N0FFtVLKOpNCwaXjuc2/j2FBoJfjbd0cYUEP2S4gdftbQQJGNEl6JVBB4RS7d6SsYkEHx6+tJbFjQclgwtUqSV1Bf6XWSRnCQ0GSBcwwofZZQWHQ4/KN/VZBhl6E5K1VZEGvtaOvASxbQfKmASeyXkLBa6h0XQZbDsEas+jdrnBPwW3394iobkHBTygVYMY3EcEsuyjOTaJMQUe9LRZOeFNBYA8nvzarQkEZHDjLXXQ6wQfkcM7SwzbB3D9AHgO/P8HzQc0FO7kgQWJUpcEbaGBBZQdUvyguYEE58eCqlDNAQaUnvmLc+jvB9vHeMyavSsFQSCQjVQVXQeBA1SeMevPAnw2Bdu91W0EChq1MlTNiQYggVp/sfjfBOVNjnqaiS0F7CLnzCuZgQd2hoQHedD/BoevFbkEjV8GNqmcMu/Yuwe801DavEEZB1KIFBeLDUcHXerh+B81hQUL+ZLJpLVBBg+YXC9oLXEFGJwF9re1GwX8Y+WijjPPAq7F1k5MiREHU2JWg6yFIQZErSRgC5vhAtOfeHdBOSEFhWJ8/brgjwdG2QYLXXEbBIkCIO6Z/WkGQJb7PivRTwT422PnIeEhBrojsbjR/JUE7ItwKEYVTQTTrd8YhET1BS1PDicz1RUHLOH7r1VRUwdxIOvAJBFPBnOpylrwwMcFodcQoaCVDweESlZaH6VVBlYRFltDrW0HglToh8D9MwaJItHr7u03BS/jNJP5MV0FxIRpe5UImQZJKhDCj4UTBvc70tzjoRUFvOcDzGrdhQQjWBFaaj1FBgLI4ixEcX0FUlFHVFmdTQTo29ebTFVhB8oz/xA8/QEFs130EfGlTwXpuwraTx1dBv0GL2RiAVEGkVK3APqVcQRBPNxQN2kVB0FodKKV+QkHBhV0nY3UnwTsVPrwvpk1BRjOBZMpLO8EneEevUBoEQexyD67DvDZBxYErAKeAJEEb1uRKGtBJQc4PjQpIpRRBszBITXdTMEEoNyru9PBJQSt6SOK8Dx3Bgtj3rrRfVUF7WX2nCcFMQQwTjlOnbUZBKw+5qy4kAkEiSnb7msJVQYevCD3JB11B15F/MQ9jZEE6Y3KSnr1Owajje2p/b2FB75iUfzpONEEasXvGKQNJQeNj0q9W6CLBUdcmzX0oZUFXT5GSfsdVQbppNh9VMFRBD43uBOElOsHiI7dNditfQe1qW7qaAkLBi2J0WV3oWUEPEN4q4HJNwcpfHjRYwVhB22z+i57GFcGpUraxNqo9QVT45wPm+jnB9UtYIl41RUHhC4APb29QQcmiHWjRizjB5pT1xd4jLsFTT/AnjaY0QZVobZfuCy3Boc4hygwTUcHLOq2Gv8BFQYpwsGZ2NURBVzBcs11ePUEJGczhs306wYsyGEDWaEdBBJLdJjjHU0FWYFOw+BwwwV7FdRKVY0jBvUiHtJsPDUHkEopztHdIQb7hUvvmNFRBYSRuFDNLSkFDkyFZviJPQX+LK1oc8U9BjVhEWXU1BEE84ZT78LBRQSYMpxOYZDzBRJC119wmLsHyCANfRtYkwWcc1zC6/0RBKaBaURc1RsFE+A6jeIwrQW0xJ8vxxytB2vCdXV0VM0FYIMAJSP9JQcwXKJylvTFBUIBrLun5OEGVj2D6UKZSQbWI3ZTp+1JBgL2N16XNYUE0//5F9VU5QR0yCbSFRVJBZRdGNjuKV0HV8FQytx1BQeWVKxdvukTBDdChKVOvB0EA2wY4xTFQQeyVD1QwnVJBoi0WwgZ2UUHToAusnZpXQdnUZ9LYfVNBkV1Mte8rQEExV2SB4OQgwR/PXIi1KhVBEDOBP43DK8FqR0Wl7hJOwUrzZwmA2xBBoPKkdgERUsFnPuTFA11hQT0yvBSF/05B44HaT1xNWUGO3nQ9iOtIQeLbYZl00yJBMgCFJHmfNUF190DidEk1QQPvIa5j9DdB8a0ba5ukVEEcE0hD90JAQQ7U9pe6xVxBo0wx5jC/TMHnifbxTzNYQR417Q1dZUDBDzZkgYRyJUE=\"},\"shape\":[577],\"dtype\":\"float64\",\"order\":\"little\"}],[\"City\",[\"hami\",\"adamstown\",\"college\",\"port-aux-francais\",\"koungou\",\"georgetown\",\"katsuren-haebaru\",\"iskateley\",\"olonkinbyen\",\"thompson\",\"swift current\",\"papatowai\",\"grytviken\",\"sepuka\",\"ilulissat\",\"port lincoln\",\"trondheim\",\"tralee\",\"edinburgh of the seven seas\",\"albany\",\"hermanus\",\"mejit\",\"bredasdorp\",\"yellowknife\",\"atafu village\",\"avarua\",\"kodiak\",\"punta arenas\",\"waitangi\",\"utrik\",\"cabo san lucas\",\"cabedelo\",\"petropavlovsk-kamchatsky\",\"howard springs\",\"al kharijah\",\"mount isa\",\"fukuecho\",\"brandys nad labem-stara boleslav\",\"priargunsk\",\"hawaiian paradise park\",\"enewetak\",\"nadi\",\"san antonio de pale\",\"tsiombe\",\"puerto natales\",\"suluova\",\"whitehorse\",\"mili\",\"mount gambier\",\"san patricio\",\"sao vicente\",\"arroyo\",\"matoury\",\"tsaratanana\",\"opuwo\",\"taroa\",\"newman\",\"port mathurin\",\"puerto ayora\",\"praia da vitoria\",\"siguiri\",\"west island\",\"suva\",\"trabzon\",\"mahina\",\"ushuaia\",\"gharyan\",\"snihurivka\",\"song cau\",\"prince george\",\"kargasok\",\"sur\",\"crane\",\"bethel\",\"horodnya\",\"stanley\",\"weno\",\"udachny\",\"zouerate\",\"ebon\",\"hamilton\",\"iqaluit\",\"blackmans bay\",\"longyearbyen\",\"afaahiti\",\"margaret river\",\"new norfolk\",\"vincennes\",\"haiku-pauwela\",\"ust-nera\",\"lihue\",\"palikir - national government center\",\"celestun\",\"tazacorte\",\"bayanhongor\",\"beypore\",\"ancud\",\"ko pha ngan\",\"shingu\",\"mugia\",\"tiksi\",\"tazovsky\",\"inarajan village\",\"ji'an\",\"port elizabeth\",\"griffith\",\"acarau\",\"aqadyr\",\"northam\",\"tolanaro\",\"ibshaway\",\"namibe\",\"khromtau\",\"port isabel\",\"la'ie\",\"vamospercs\",\"buka\",\"bikenibeu village\",\"sao joao da barra\",\"kodinsk\",\"embarcacion\",\"ipora\",\"invercargill\",\"champerico\",\"richards bay\",\"zalingei\",\"lompoc\",\"lebu\",\"bulayevo\",\"dudinka\",\"ujae\",\"livno\",\"colonia general alfredo stroessner\",\"katsuura\",\"tudela\",\"olyokminsk\",\"kuusamo\",\"karasuk\",\"castillos\",\"keflavik\",\"mao\",\"chhapar\",\"kingston\",\"umm kaddadah\",\"laguna\",\"pechory\",\"galliano\",\"sylva\",\"qaqortoq\",\"wailua homesteads\",\"lazaro cardenas\",\"ishikari\",\"don sak\",\"baiyin\",\"bilibino\",\"happy valley-goose bay\",\"arraial do cabo\",\"fasa\",\"yeppoon\",\"aragarcas\",\"grand-bassam\",\"khandyga\",\"khairagarh\",\"badger\",\"springfield\",\"kumertau\",\"flying fish cove\",\"divnogorsk\",\"carnarvon\",\"tidjikja\",\"jaisalmer\",\"bamboo flat\",\"egilsstadir\",\"santa isabel\",\"fort mcmurray\",\"glace bay\",\"new plymouth\",\"xining\",\"ouallam\",\"nemuro\",\"kuching\",\"touros\",\"uturoa\",\"queenstown\",\"nova sintra\",\"sambava\",\"kuraymah\",\"mumford\",\"ribeira grande\",\"luganville\",\"port alfred\",\"trenggalek\",\"itoman\",\"san felipe\",\"hadibu\",\"darwin\",\"trincomalee\",\"nagqu\",\"alappuzha\",\"barra do bugres\",\"klyuchi\",\"soure\",\"susanville\",\"gadzhiyevo\",\"ribeira brava\",\"cidreira\",\"banda aceh\",\"al jawf\",\"slave lake\",\"kalifornsky\",\"san jose\",\"zarghun shahr\",\"dazhou\",\"aswan\",\"waiuku\",\"kharp\",\"chonchi\",\"al burayqah\",\"itaituba\",\"esil\",\"north ward\",\"torrington\",\"niafunke\",\"new ulm\",\"brigantine\",\"lib\",\"lagunas\",\"tres arroyos\",\"matane\",\"el granada\",\"isafjordur\",\"colonia\",\"chadron\",\"south hill\",\"tadine\",\"morehead city\",\"bobbili\",\"lobujya\",\"lethem\",\"oranjemund\",\"babina\",\"sitka\",\"dryden\",\"kawerau\",\"grand falls-windsor\",\"ardakan\",\"vilyuchinsk\",\"misratah\",\"olinda\",\"jamestown\",\"nar'yan-mar\",\"puerto aysen\",\"okhotsk\",\"howrah\",\"lata\",\"west bay\",\"at taj\",\"kegeyli shahar\",\"nioki\",\"mar del plata\",\"gizo\",\"zaslawye\",\"bel ombre\",\"al bawiti\",\"kamiiso\",\"vila do maio\",\"fale old settlement\",\"bodaybo\",\"aripuana\",\"desaguadero\",\"talnakh\",\"tuni\",\"ambodifotatra\",\"karakol\",\"emerald\",\"saint-francois\",\"harper\",\"fort bragg\",\"arrah\",\"cuenca\",\"taltal\",\"bridgewater\",\"susuman\",\"hotan\",\"chui\",\"kerikeri\",\"holualoa\",\"el calafate\",\"ketchikan\",\"ola\",\"box elder\",\"paita\",\"plastun\",\"dingalan\",\"bol'shoye boldino\",\"alofi\",\"mega\",\"lichinga\",\"castro\",\"kone\",\"vorkuta\",\"lamu\",\"srandakan\",\"bani walid\",\"galle\",\"walvis bay\",\"freetown\",\"san sebastian de la gomera\",\"san carlos\",\"constantia\",\"tshikapa\",\"christchurch\",\"aoulef\",\"saint-mandrier-sur-mer\",\"berezovyy\",\"ivins\",\"bonthe\",\"comodoro rivadavia\",\"changling\",\"wynyard\",\"ballina\",\"gubkinskiy\",\"dillon\",\"pushkinskiye gory\",\"magadan\",\"jingdezhen\",\"altai\",\"vinogradovo\",\"casablanca\",\"mumbwa\",\"labasa\",\"sorbhog\",\"margate\",\"chul'man\",\"vila franca do campo\",\"kourou\",\"ciudad lazaro cardenas\",\"codrington\",\"broken hill\",\"taoudenni\",\"sandnessjoen\",\"shalqar\",\"laela\",\"vernon\",\"zheleznogorsk-ilimskiy\",\"tandil\",\"hastings\",\"jimma\",\"ocos\",\"saudarkrokur\",\"puerto baquerizo moreno\",\"utica\",\"saipan\",\"pemangkat\",\"yei\",\"kununurra\",\"izhmorskiy\",\"shimoda\",\"copala\",\"kapa'a\",\"tirmiz\",\"cobourg\",\"bardai\",\"biaora\",\"la ronge\",\"tarko-sale\",\"vlore\",\"kencong\",\"levuka\",\"fort st. john\",\"smara\",\"cabinda\",\"kailua-kona\",\"chavusy\",\"gargalianoi\",\"arkhangel'sk\",\"namdrik\",\"port hedland\",\"sinop\",\"tabou\",\"scottburgh\",\"rafaela\",\"chibougamau\",\"chaparral\",\"kouroussa\",\"pangkalpinang\",\"arica\",\"barah\",\"saint-philippe\",\"malvik\",\"alesund\",\"yuryuzan'\",\"mahdia\",\"akureyri\",\"vorgashor\",\"blairgowrie\",\"hakha\",\"chita\",\"mount pearl\",\"aasiaat\",\"zeya\",\"nuku'alofa\",\"la libertad\",\"kiama\",\"charters towers\",\"jayapura\",\"zintan\",\"calella\",\"cockburn town\",\"zomba\",\"mata-utu\",\"shakawe\",\"remire-montjoly\",\"amga\",\"severo-yeniseyskiy\",\"ambajogai\",\"yunguyo\",\"coquimbo\",\"st. john's\",\"boca suno\",\"whitecourt\",\"anadyr\",\"pisco\",\"ouarzazat\",\"churapcha\",\"gokwe\",\"puerto deseado\",\"daru\",\"chunar\",\"necochea\",\"selfoss\",\"cambria\",\"letterkenny\",\"tshabong\",\"port-gentil\",\"san jose del cabo\",\"zhaotong\",\"kiboga\",\"idri\",\"natal\",\"caaguazu\",\"neftegorsk\",\"greymouth\",\"tindouf\",\"affery\",\"yarmouth\",\"acapulco de juarez\",\"umluj\",\"quellon\",\"viedma\",\"huarmey\",\"okahandja\",\"novodzhereliyevskaya\",\"smithers\",\"san juan\",\"east london\",\"qarazhal\",\"siluko\",\"inhambane\",\"ghat\",\"vilyuysk\",\"murghob\",\"anderstorp\",\"cleveland\",\"bokovskaya\",\"isla aguada\",\"blenheim\",\"tosontsengel\",\"north bend\",\"moscow\",\"karachi\",\"ta'if\",\"pekalongan\",\"zuwarah\",\"belmonte\",\"laikit, laikit ii (dimembe)\",\"merizo village\",\"tangalle\",\"teguise\",\"watsa\",\"fada\",\"fort abbas\",\"piripiri\",\"saynshand\",\"xiangyang\",\"tura\",\"cartagena del chaira\",\"portland\",\"zapadnaya dvina\",\"harstad\",\"kruisfontein\",\"solleftea\",\"malanville\",\"pokhara\",\"sechura\",\"vadso\",\"la passe\",\"yankton\",\"minas de marcona\",\"tommot\",\"karratha\",\"kalkaman\",\"tilisarao\",\"arkalyk\",\"altamira\",\"atoyac de alvarez\",\"nampula\",\"santander jimenez\",\"okaya\",\"leava\",\"luanda\",\"canchungo\",\"lospalos\",\"villa gesell\",\"hirara\",\"las veredas\",\"nyaungdon\",\"lusaka\",\"kish\",\"palmer\",\"port moresby\",\"correia pinto\",\"afgooye\",\"camargo\",\"preobrazheniye\",\"nushki\",\"panjab\",\"kasserine\",\"manado\",\"mount carmel\",\"port douglas\",\"mbala\",\"kiunga\",\"ad dilam\",\"clorinda\",\"kayangel\",\"huruta\",\"rongelap\",\"rikaze\",\"lere\",\"le vauclin\",\"powell\",\"derince\",\"berezovo\",\"champasak\",\"roxborough park\",\"plouzane\",\"sorada\",\"alice springs\",\"sibolga\",\"qufu\",\"datong\",\"la junta\",\"nehe\",\"zaragoza\",\"coahuayana de hidalgo\",\"micheweni\",\"baidoa\",\"buala\",\"sarandi del yi\",\"sinabang\",\"villa regina\",\"chernyshevskiy\",\"show low\",\"winchester\",\"loushanguan\",\"kasoa\",\"seven pagodas\",\"myeik\",\"ke-macina\",\"aktau\",\"wanning\",\"pokrov\",\"rio grande\",\"qarqaraly\",\"andovoranto\",\"monrovia\"]],[\"Max_Temp\",{\"type\":\"ndarray\",\"array\":{\"type\":\"bytes\",\"data\":\"PQrXo3A9PEAAAAAAAEA0QD0K16Nw/TRArkfhehSuEkDXo3A9Ctc6QLgehetR+D5AuB6F61E4OUCuR+F6FK4BwAAAAAAAAOg/rkfhehQuJEBmZmZmZuYkQBSuR+F6lCJAPQrXo3A9GcDhehSuR2EwQK5H4XoUru+/SOF6FK7HLECPwvUoXA8oQDMzMzMzMxpAhetRuB6FLkD2KFyPwnUuQK5H4XoUrh5Aj8L1KFyPO0CF61G4HoUiQB+F61G4HiFA16NwPQpXPUBI4XoUrgc3QOxRuB6F6x5A9ihcj8L18D9cj8L1KFwpQClcj8L1aDxAXI/C9SicPEAfhetRuF43QFK4HoXrURVAexSuR+EaQEBxPQrXo3A5QB+F61G43jBAMzMzMzMzOEDsUbgehesvQHsUrkfhOjtAexSuR+G6N0DD9Shcj8I7QAAAAAAAADxAH4XrUbgeOkDXo3A9CpcwQHE9CtejcO0/16NwPQrXLUCuR+F6FG4wQIXrUbgehTtAexSuR+F6LEBxPQrXo/A8QJqZmZmZGTRAcT0K16NwIkB7FK5H4fo4QK5H4XoUrjVAw/UoXI9CIUA9CtejcL05QOF6FK5HITxAzczMzMwMOEBcj8L1KNw0QAAAAAAAwDJA16NwPQqXO0A9CtejcP07QPYoXI/CtThAmpmZmZkZLkAfhetRuN46QArXo3A9CvO/MzMzMzNzOEBSuB6F6xEyQPYoXI/ClUBAFK5H4XqULUD2KFyPwvUOQGZmZmZmZkJArkfhehSuOkDsUbgehSsxQB+F61G4HjBAFK5H4XqUJEC4HoXrUfg9QAAAAAAAQDRAZmZmZmYmM0DhehSuRyE9QFyPwvUoHDFAMzMzMzMzCcCkcD0K1yMoQEjhehSuRwdArkfhehTuOUCPwvUoXE80QPYoXI/CdSlAH4XrUbieKkCuR+F6FK45QBSuR+F6lChAFK5H4XqUO0C4HoXrUXg8QM3MzMzMDD1ACtejcD2KMkCamZmZmRksQBSuR+F6lDxAhetRuB6FHUDhehSuR2E/QM3MzMzMTDZASOF6FK7HLEB7FK5H4XobQOxRuB6F6+G/CtejcD2KP0DD9Shcj4I1QFK4HoXrUSxA9ihcj8L1NUCuR+F6FC45QM3MzMzMzDFAUrgehetRI0AK16NwPQowQMP1KFyPwjlA4XoUrkchM0BmZmZmZmY3QIXrUbgeBT1AexSuR+H6OkDXo3A9CtcwQNejcD0KlzpAexSuR+H6P0BSuB6F61EyQArXo3A9CiBACtejcD3KMEAfhetRuJ4wQGZmZmZm5iJAw/UoXI+CPEAfhetRuN4yQAAAAAAAQDtAzczMzMzMK0AfhetRuB4lQNejcD0KVy1AmpmZmZmZ/b+F61G4HkU8QEjhehSuRylAhetRuB4FKkCuR+F6FO4zQAAAAAAAAClAuB6F61F4O0CF61G4HgUwQHsUrkfh+ipACtejcD2KJUB7FK5H4XogQI/C9ShcTzFAw/UoXI9iQkBI4XoUroc9QKRwPQrXIz1AFK5H4XoUPEAzMzMzM7MyQAAAAAAAADpAzczMzMxML0BI4XoUrkfRPz0K16NwPTtAPQrXo3C9OkAK16NwPQo1QLgehetR+EBAPQrXo3B9NUBcj8L1KFwlQFyPwvUoXAlAhetRuB4FNkAUrkfhepQ7QI/C9ShczzpAZmZmZmYmMkB7FK5H4fo5QDMzMzMz8zRAUrgehetRRUAzMzMzM/M0QFK4HoXrUTJAH4XrUbheM0BSuB6F69E8QArXo3A9iiZAj8L1KFxPOUBmZmZmZuY6QM3MzMzMjD9AzczMzMwMPUBmZmZmZuYhQLgehetROC1AFK5H4XoUH0CkcD0K16MeQGZmZmZm5i5A7FG4HoXrMUB7FK5H4fo+QPYoXI/C9R5AUrgeheuRPkCuR+F6FC44QAAAAAAAADtA4XoUrkfhIkApXI/C9Wg3QKRwPQrXYzdA9ihcj8I1PkBI4XoUrkc6QMP1KFyPwjJAj8L1KFwPOkAzMzMzMzMuQHE9CtejcDtAuB6F61E4OUCamZmZmRk3QOF6FK5H4TxAAAAAAAAgQECF61G4HsU+QClcj8L1KCNAFK5H4XpUPEApXI/C9agyQHsUrkfh+ilAMzMzMzOzOkB7FK5H4ToyQD0K16NwPRtAj8L1KFyPNECamZmZmRkvQNejcD0Klz9AUrgehevRNEB7FK5H4fojQLgehetROCxAKVyPwvXoM0B7FK5H4fo1QB+F61G4XjZAXI/C9SicO0CPwvUoXM8wQGZmZmZmZu4/MzMzMzMzC0DhehSuR6E4QHsUrkfhOjdACtejcD3KMEAzMzMzM/M5QD0K16Nw/TFAzczMzMysQEDsUbgehWswQBSuR+F6VDJArkfhehSuO0Bcj8L1KBw2QHsUrkfheiZAzczMzMzMGUAAAAAAAMAxQFK4HoXrURRACtejcD2KLUBmZmZmZmYoQM3MzMzMjDBAAAAAAADAN0DNzMzMzIw0QDMzMzMzM0BA9ihcj8L1/L/sUbgehes4QKRwPQrXIyNAZmZmZmaGREDhehSuR+EhQFK4HoXrUS5A7FG4HoUrMEC4HoXrUbgRQArXo3A9yj9AmpmZmZmZGEBSuB6F65E1QJqZmZmZ2TdAmpmZmZmZJUBI4XoUrkcBwHsUrkfheghAexSuR+F6IkAAAAAAAIBAQGZmZmZm5i1AH4XrUbhePECPwvUoXM87QM3MzMzMDD5ASOF6FK5HNkApXI/C9agpQJqZmZmZGTxAFK5H4XoULUApXI/C9eg8QHsUrkfhOjlA7FG4HoVrKEBxPQrXo3A2QK5H4XoULj1AZmZmZmZmOUBSuB6F65E1QB+F61G4HhlA4XoUrkfhAMBSuB6F63FAQDMzMzMzszdAUrgehesRMEAAAAAAAMA0QK5H4XoUriZAZmZmZmZmOUCF61G4HgUvQLgehetReEBApHA9CtcjLkDD9ShcjwIwQKRwPQrXoyVA9ihcj8L1E0CamZmZmdk4QHsUrkfh+iZApHA9CtdjM0DsUbgehWs6QDMzMzMzM/M/hetRuB6FJECF61G4HoUWQOxRuB6F6zFA4XoUrkfhMkCF61G4HgUwQJqZmZmZmT9Aj8L1KFwPM0BxPQrXo/A3QKRwPQrXIy5AmpmZmZkZLECkcD0K16MbQI/C9ShczzhAw/UoXI/CE8AAAAAAAAA6QPYoXI/CtTxAcT0K16MwNUCamZmZmdk8QArXo3A9iiZAPQrXo3B9OkD2KFyPwjU0QFK4HoXrUTdAXI/C9SicMUD2KFyPwvU2QJqZmZmZ2TVAZmZmZmamPkAUrkfhepQuQGZmZmZmZjxAH4XrUbiePkD2KFyPwrU6QK5H4XoUrhtAzczMzMxMKUBI4XoUrkcqQK5H4XoUbjRAZmZmZmZm8j9I4XoUrkcuQFyPwvUo3DFAKVyPwvUoFUCF61G4HgU2QOF6FK5H4S1Aw/UoXI8CNUDD9ShcjwI0QLgehetRuCpApHA9CtcjN0D2KFyPwrU+QNejcD0KVyhArkfhehTuNkB7FK5H4TozQEjhehSuBzlAPQrXo3C9OkD2KFyPwnUrQJqZmZmZGSpAUrgehetRPkAUrkfhepQoQKRwPQrX4zlAAAAAAAAAKkCPwvUoXI8xQGZmZmZmZiRAw/UoXI/CJEC4HoXrUbgnQM3MzMzMjDBAmpmZmZkZOUB7FK5H4XogQB+F61G4XjVASOF6FK5HKUBSuB6F6zFAQBSuR+F61DxAZmZmZmZmNEC4HoXrUfg+QGZmZmZm5iNA16NwPQrXNkDD9Shcj0I7QD0K16Nw/TtAzczMzMwMO0DNzMzMzEwtQOxRuB6F6zhAPQrXo3DdQUBI4XoUrkciQClcj8L1KOw/uB6F61F4NEDXo3A9Cpc8QJqZmZmZmR9A4XoUrkfhK0CPwvUoXI80QFyPwvUoHDdAPQrXo3B9PEBcj8L1KNwvQEjhehSuhzJAj8L1KFwPNUApXI/C9ag8QEjhehSuBzxAAAAAAADAMEBxPQrXozA5QBSuR+F61DBApHA9CtejKkAUrkfhepQlQOF6FK5HITRAZmZmZmYmOUBcj8L1KBw4QOF6FK5HITFAcT0K16NwPUCF61G4HsU2QArXo3A9iidApHA9CtcjLEA9CtejcD0pQLgehetR+DRA7FG4HoXrJUBxPQrXo3AUwK5H4XoUriRAexSuR+G6O0BxPQrXo/A3QClcj8L1KCFAuB6F61G4EMCamZmZmZk8QHE9CtejMDdAFK5H4XqUNkDD9Shcj8IvQK5H4XoULjtAFK5H4XpUQEDhehSuRyE2QHE9Ctej8DJApHA9CtejO0CF61G4HoUrQOF6FK5HITxAw/UoXI/CKECF61G4HgU5QB+F61G4HjpAzczMzMzMCEDhehSuR+FAQB+F61G4HhNAMzMzMzOzJUAUrkfhehQiQFK4HoXr0TVAKVyPwvUoK0AfhetRuB4dQEjhehSuBzFAKVyPwvUoN0CPwvUoXE83QD0K16NwvSZAw/UoXI/CGUD2KFyPwrU6QKRwPQrXg0FAH4XrUbgeI0BSuB6F69EhQClcj8L1aDNAw/UoXI/CGkA9CtejcD0nQI/C9ShczzlAmpmZmZmZPEBxPQrXo/AuQJqZmZmZGTBAAAAAAAAAPkAfhetRuB45QM3MzMzMTC1AFK5H4XpUNUB7FK5H4XosQAAAAAAAQDFA16NwPQoXN0BmZmZmZqYwQGZmZmZm5jxAuB6F61G4OkCPwvUoXI8UQHsUrkfheidAzczMzMwMMkBmZmZmZmYgQIXrUbgehTRAXI/C9ShcJkCkcD0K16MoQIXrUbgehTBA7FG4HoWrM0AUrkfhetQ3QD0K16Nw/TJAj8L1KFwPP0DsUbgehas1QFK4HoXrUQ5A4XoUrkdhMUCF61G4HoUsQOxRuB6F6zNAZmZmZmbmPUAfhetRuJ4yQEjhehSuRzNAAAAAAACAKkBcj8L1KJw0QGZmZmZm5j9Aj8L1KFyPOEAfhetRuB4/QFyPwvUoXDdA9ihcj8K1NkC4HoXrUXg7QI/C9ShcTz9A16NwPQoXPkAfhetRuB4xQArXo3A9SjFAFK5H4XpUNEAAAAAAAMBCQPYoXI/CdTdAMzMzMzMzNkDhehSuR6E9QD0K16NwfT5A9ihcj8I1NUBSuB6F61E1QArXo3A9Ci9AUrgehetRJUAzMzMzMzMnQNejcD0K1ytAzczMzMxMO0BI4XoUridAQHsUrkfhOjNAexSuR+H6IEDD9Shcj8IrQNejcD0K1zFApHA9CtejJ0DsUbgehas4QNejcD0K1zlAH4XrUbgeLEBSuB6F61EiQKRwPQrXIzFAcT0K16NwNkDD9ShcjwI7QLgehetR+DNAmpmZmZlZO0AUrkfhelQ4QMP1KFyPwjtAAAAAAAAAOEBSuB6F6xE3QClcj8L1qDpAAAAAAACAKEBmZmZmZiY+QAAAAAAAQDxA9ihcj8K1P0A9CtejcD0rQDMzMzMzk0BACtejcD2KLkCuR+F6FK4+QBSuR+F6FBxAMzMzMzNzO0AAAAAAAMA7QOF6FK5HYSpAw/UoXI9CO0CamZmZmRkhQK5H4XoUbjJArkfhehRuPUCPwvUoXA81QHsUrkfhOjlAhetRuB6FKkCF61G4HgU6QD0K16NwHUBArkfhehRuM0CPwvUoXM88QGZmZmZmJjFA9ihcj8I1PEBcj8L1KNwwQKRwPQrXIzVASOF6FK4HPUAzMzMzMzMtQGZmZmZmZjRAUrgehetRHkA9CtejcH09QAAAAAAAADJAXI/C9ShcJkCuR+F6FM5CQAAAAAAAwDFAmpmZmZkZPUDNzMzMzAw/QM3MzMzMDDlA7FG4HoXrMkCkcD0K1yM2QIXrUbgeBS5ACtejcD1KOEB7FK5H4Xo5QJqZmZmZ2TVAmpmZmZkZPUBSuB6F69EiQPYoXI/C9TtAzczMzMxMJ0CkcD0K1yM4QClcj8L1KDFAexSuR+F6JEAfhetRuF42QAAAAAAAQDtASOF6FK6HQUBI4XoUrkc6QOxRuB6F60BAUrgehetROkDD9Shcj4I6QBSuR+F6lDJA4XoUrkdhKEAAAAAAAAArQFK4HoXrETZAH4XrUbjeOUA=\"},\"shape\":[577],\"dtype\":\"float64\",\"order\":\"little\"}],[\"Humidity\",{\"type\":\"ndarray\",\"array\":{\"type\":\"bytes\",\"data\":\"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\"},\"shape\":[577],\"dtype\":\"int32\",\"order\":\"little\"}],[\"Cloudiness\",{\"type\":\"ndarray\",\"array\":{\"type\":\"bytes\",\"data\":\"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\"},\"shape\":[577],\"dtype\":\"int32\",\"order\":\"little\"}],[\"Wind_Speed\",{\"type\":\"ndarray\",\"array\":{\"type\":\"bytes\",\"data\":\"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\"},\"shape\":[577],\"dtype\":\"float64\",\"order\":\"little\"}],[\"fill_color\",[\"hami\",\"adamstown\",\"college\",\"port-aux-francais\",\"koungou\",\"georgetown\",\"katsuren-haebaru\",\"iskateley\",\"olonkinbyen\",\"thompson\",\"swift current\",\"papatowai\",\"grytviken\",\"sepuka\",\"ilulissat\",\"port lincoln\",\"trondheim\",\"tralee\",\"edinburgh of the seven seas\",\"albany\",\"hermanus\",\"mejit\",\"bredasdorp\",\"yellowknife\",\"atafu village\",\"avarua\",\"kodiak\",\"punta arenas\",\"waitangi\",\"utrik\",\"cabo san lucas\",\"cabedelo\",\"petropavlovsk-kamchatsky\",\"howard springs\",\"al kharijah\",\"mount isa\",\"fukuecho\",\"brandys nad labem-stara boleslav\",\"priargunsk\",\"hawaiian paradise park\",\"enewetak\",\"nadi\",\"san antonio de pale\",\"tsiombe\",\"puerto natales\",\"suluova\",\"whitehorse\",\"mili\",\"mount gambier\",\"san patricio\",\"sao vicente\",\"arroyo\",\"matoury\",\"tsaratanana\",\"opuwo\",\"taroa\",\"newman\",\"port mathurin\",\"puerto ayora\",\"praia da vitoria\",\"siguiri\",\"west island\",\"suva\",\"trabzon\",\"mahina\",\"ushuaia\",\"gharyan\",\"snihurivka\",\"song cau\",\"prince george\",\"kargasok\",\"sur\",\"crane\",\"bethel\",\"horodnya\",\"stanley\",\"weno\",\"udachny\",\"zouerate\",\"ebon\",\"hamilton\",\"iqaluit\",\"blackmans bay\",\"longyearbyen\",\"afaahiti\",\"margaret river\",\"new norfolk\",\"vincennes\",\"haiku-pauwela\",\"ust-nera\",\"lihue\",\"palikir - national government center\",\"celestun\",\"tazacorte\",\"bayanhongor\",\"beypore\",\"ancud\",\"ko pha ngan\",\"shingu\",\"mugia\",\"tiksi\",\"tazovsky\",\"inarajan village\",\"ji'an\",\"port elizabeth\",\"griffith\",\"acarau\",\"aqadyr\",\"northam\",\"tolanaro\",\"ibshaway\",\"namibe\",\"khromtau\",\"port isabel\",\"la'ie\",\"vamospercs\",\"buka\",\"bikenibeu village\",\"sao joao da barra\",\"kodinsk\",\"embarcacion\",\"ipora\",\"invercargill\",\"champerico\",\"richards bay\",\"zalingei\",\"lompoc\",\"lebu\",\"bulayevo\",\"dudinka\",\"ujae\",\"livno\",\"colonia general alfredo stroessner\",\"katsuura\",\"tudela\",\"olyokminsk\",\"kuusamo\",\"karasuk\",\"castillos\",\"keflavik\",\"mao\",\"chhapar\",\"kingston\",\"umm kaddadah\",\"laguna\",\"pechory\",\"galliano\",\"sylva\",\"qaqortoq\",\"wailua homesteads\",\"lazaro cardenas\",\"ishikari\",\"don sak\",\"baiyin\",\"bilibino\",\"happy valley-goose bay\",\"arraial do cabo\",\"fasa\",\"yeppoon\",\"aragarcas\",\"grand-bassam\",\"khandyga\",\"khairagarh\",\"badger\",\"springfield\",\"kumertau\",\"flying fish cove\",\"divnogorsk\",\"carnarvon\",\"tidjikja\",\"jaisalmer\",\"bamboo flat\",\"egilsstadir\",\"santa isabel\",\"fort mcmurray\",\"glace bay\",\"new plymouth\",\"xining\",\"ouallam\",\"nemuro\",\"kuching\",\"touros\",\"uturoa\",\"queenstown\",\"nova sintra\",\"sambava\",\"kuraymah\",\"mumford\",\"ribeira grande\",\"luganville\",\"port alfred\",\"trenggalek\",\"itoman\",\"san felipe\",\"hadibu\",\"darwin\",\"trincomalee\",\"nagqu\",\"alappuzha\",\"barra do bugres\",\"klyuchi\",\"soure\",\"susanville\",\"gadzhiyevo\",\"ribeira brava\",\"cidreira\",\"banda aceh\",\"al jawf\",\"slave lake\",\"kalifornsky\",\"san jose\",\"zarghun shahr\",\"dazhou\",\"aswan\",\"waiuku\",\"kharp\",\"chonchi\",\"al burayqah\",\"itaituba\",\"esil\",\"north ward\",\"torrington\",\"niafunke\",\"new ulm\",\"brigantine\",\"lib\",\"lagunas\",\"tres arroyos\",\"matane\",\"el granada\",\"isafjordur\",\"colonia\",\"chadron\",\"south hill\",\"tadine\",\"morehead city\",\"bobbili\",\"lobujya\",\"lethem\",\"oranjemund\",\"babina\",\"sitka\",\"dryden\",\"kawerau\",\"grand falls-windsor\",\"ardakan\",\"vilyuchinsk\",\"misratah\",\"olinda\",\"jamestown\",\"nar'yan-mar\",\"puerto aysen\",\"okhotsk\",\"howrah\",\"lata\",\"west bay\",\"at taj\",\"kegeyli shahar\",\"nioki\",\"mar del plata\",\"gizo\",\"zaslawye\",\"bel ombre\",\"al bawiti\",\"kamiiso\",\"vila do maio\",\"fale old settlement\",\"bodaybo\",\"aripuana\",\"desaguadero\",\"talnakh\",\"tuni\",\"ambodifotatra\",\"karakol\",\"emerald\",\"saint-francois\",\"harper\",\"fort bragg\",\"arrah\",\"cuenca\",\"taltal\",\"bridgewater\",\"susuman\",\"hotan\",\"chui\",\"kerikeri\",\"holualoa\",\"el calafate\",\"ketchikan\",\"ola\",\"box elder\",\"paita\",\"plastun\",\"dingalan\",\"bol'shoye boldino\",\"alofi\",\"mega\",\"lichinga\",\"castro\",\"kone\",\"vorkuta\",\"lamu\",\"srandakan\",\"bani walid\",\"galle\",\"walvis bay\",\"freetown\",\"san sebastian de la gomera\",\"san carlos\",\"constantia\",\"tshikapa\",\"christchurch\",\"aoulef\",\"saint-mandrier-sur-mer\",\"berezovyy\",\"ivins\",\"bonthe\",\"comodoro rivadavia\",\"changling\",\"wynyard\",\"ballina\",\"gubkinskiy\",\"dillon\",\"pushkinskiye gory\",\"magadan\",\"jingdezhen\",\"altai\",\"vinogradovo\",\"casablanca\",\"mumbwa\",\"labasa\",\"sorbhog\",\"margate\",\"chul'man\",\"vila franca do campo\",\"kourou\",\"ciudad lazaro cardenas\",\"codrington\",\"broken hill\",\"taoudenni\",\"sandnessjoen\",\"shalqar\",\"laela\",\"vernon\",\"zheleznogorsk-ilimskiy\",\"tandil\",\"hastings\",\"jimma\",\"ocos\",\"saudarkrokur\",\"puerto baquerizo moreno\",\"utica\",\"saipan\",\"pemangkat\",\"yei\",\"kununurra\",\"izhmorskiy\",\"shimoda\",\"copala\",\"kapa'a\",\"tirmiz\",\"cobourg\",\"bardai\",\"biaora\",\"la ronge\",\"tarko-sale\",\"vlore\",\"kencong\",\"levuka\",\"fort st. john\",\"smara\",\"cabinda\",\"kailua-kona\",\"chavusy\",\"gargalianoi\",\"arkhangel'sk\",\"namdrik\",\"port hedland\",\"sinop\",\"tabou\",\"scottburgh\",\"rafaela\",\"chibougamau\",\"chaparral\",\"kouroussa\",\"pangkalpinang\",\"arica\",\"barah\",\"saint-philippe\",\"malvik\",\"alesund\",\"yuryuzan'\",\"mahdia\",\"akureyri\",\"vorgashor\",\"blairgowrie\",\"hakha\",\"chita\",\"mount pearl\",\"aasiaat\",\"zeya\",\"nuku'alofa\",\"la libertad\",\"kiama\",\"charters towers\",\"jayapura\",\"zintan\",\"calella\",\"cockburn town\",\"zomba\",\"mata-utu\",\"shakawe\",\"remire-montjoly\",\"amga\",\"severo-yeniseyskiy\",\"ambajogai\",\"yunguyo\",\"coquimbo\",\"st. john's\",\"boca suno\",\"whitecourt\",\"anadyr\",\"pisco\",\"ouarzazat\",\"churapcha\",\"gokwe\",\"puerto deseado\",\"daru\",\"chunar\",\"necochea\",\"selfoss\",\"cambria\",\"letterkenny\",\"tshabong\",\"port-gentil\",\"san jose del cabo\",\"zhaotong\",\"kiboga\",\"idri\",\"natal\",\"caaguazu\",\"neftegorsk\",\"greymouth\",\"tindouf\",\"affery\",\"yarmouth\",\"acapulco de juarez\",\"umluj\",\"quellon\",\"viedma\",\"huarmey\",\"okahandja\",\"novodzhereliyevskaya\",\"smithers\",\"san juan\",\"east london\",\"qarazhal\",\"siluko\",\"inhambane\",\"ghat\",\"vilyuysk\",\"murghob\",\"anderstorp\",\"cleveland\",\"bokovskaya\",\"isla aguada\",\"blenheim\",\"tosontsengel\",\"north bend\",\"moscow\",\"karachi\",\"ta'if\",\"pekalongan\",\"zuwarah\",\"belmonte\",\"laikit, laikit ii (dimembe)\",\"merizo village\",\"tangalle\",\"teguise\",\"watsa\",\"fada\",\"fort abbas\",\"piripiri\",\"saynshand\",\"xiangyang\",\"tura\",\"cartagena del chaira\",\"portland\",\"zapadnaya dvina\",\"harstad\",\"kruisfontein\",\"solleftea\",\"malanville\",\"pokhara\",\"sechura\",\"vadso\",\"la passe\",\"yankton\",\"minas de marcona\",\"tommot\",\"karratha\",\"kalkaman\",\"tilisarao\",\"arkalyk\",\"altamira\",\"atoyac de alvarez\",\"nampula\",\"santander jimenez\",\"okaya\",\"leava\",\"luanda\",\"canchungo\",\"lospalos\",\"villa gesell\",\"hirara\",\"las veredas\",\"nyaungdon\",\"lusaka\",\"kish\",\"palmer\",\"port moresby\",\"correia pinto\",\"afgooye\",\"camargo\",\"preobrazheniye\",\"nushki\",\"panjab\",\"kasserine\",\"manado\",\"mount carmel\",\"port douglas\",\"mbala\",\"kiunga\",\"ad dilam\",\"clorinda\",\"kayangel\",\"huruta\",\"rongelap\",\"rikaze\",\"lere\",\"le vauclin\",\"powell\",\"derince\",\"berezovo\",\"champasak\",\"roxborough park\",\"plouzane\",\"sorada\",\"alice springs\",\"sibolga\",\"qufu\",\"datong\",\"la junta\",\"nehe\",\"zaragoza\",\"coahuayana de hidalgo\",\"micheweni\",\"baidoa\",\"buala\",\"sarandi del yi\",\"sinabang\",\"villa regina\",\"chernyshevskiy\",\"show low\",\"winchester\",\"loushanguan\",\"kasoa\",\"seven pagodas\",\"myeik\",\"ke-macina\",\"aktau\",\"wanning\",\"pokrov\",\"rio grande\",\"qarqaraly\",\"andovoranto\",\"monrovia\"]],[\"size\",{\"type\":\"ndarray\",\"array\":{\"type\":\"bytes\",\"data\":\"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\"},\"shape\":[577],\"dtype\":\"float64\",\"order\":\"little\"}]]}}},\"view\":{\"type\":\"object\",\"name\":\"CDSView\",\"id\":\"p1192\",\"attributes\":{\"filter\":{\"type\":\"object\",\"name\":\"AllIndices\",\"id\":\"p1193\"}}},\"glyph\":{\"type\":\"object\",\"name\":\"Scatter\",\"id\":\"p1188\",\"attributes\":{\"tags\":[\"apply_ranges\"],\"x\":{\"type\":\"field\",\"field\":\"Lng\"},\"y\":{\"type\":\"field\",\"field\":\"Lat\"},\"size\":{\"type\":\"field\",\"field\":\"size\"},\"line_alpha\":{\"type\":\"value\",\"value\":0.6},\"fill_color\":{\"type\":\"field\",\"field\":\"fill_color\",\"transform\":{\"type\":\"object\",\"name\":\"CategoricalColorMapper\",\"id\":\"p1181\",\"attributes\":{\"palette\":[\"#ff0028\",\"#ff0028\",\"#ff0028\",\"#ff0023\",\"#ff0023\",\"#ff001e\",\"#ff001e\",\"#ff0018\",\"#ff0018\",\"#ff0013\",\"#ff0013\",\"#ff0013\",\"#ff000e\",\"#ff000e\",\"#ff0008\",\"#ff0008\",\"#ff0003\",\"#ff0003\",\"#ff0100\",\"#ff0100\",\"#ff0100\",\"#ff0700\",\"#ff0700\",\"#ff0c00\",\"#ff0c00\",\"#ff1200\",\"#ff1200\",\"#ff1700\",\"#ff1700\",\"#ff1700\",\"#ff1c00\",\"#ff1c00\",\"#ff2200\",\"#ff2200\",\"#ff2700\",\"#ff2700\",\"#ff2d00\",\"#ff2d00\",\"#ff2d00\",\"#ff3200\",\"#ff3200\",\"#ff3700\",\"#ff3700\",\"#ff3d00\",\"#ff3d00\",\"#ff4200\",\"#ff4200\",\"#ff4200\",\"#ff4800\",\"#ff4800\",\"#ff4d00\",\"#ff4d00\",\"#ff5200\",\"#ff5200\",\"#ff5800\",\"#ff5800\",\"#ff5800\",\"#ff5d00\",\"#ff5d00\",\"#ff6300\",\"#ff6300\",\"#ff6800\",\"#ff6800\",\"#ff6e00\",\"#ff6e00\",\"#ff6e00\",\"#ff7300\",\"#ff7300\",\"#ff7800\",\"#ff7800\",\"#ff7e00\",\"#ff7e00\",\"#ff8300\",\"#ff8300\",\"#ff8300\",\"#ff8900\",\"#ff8900\",\"#ff8e00\",\"#ff8e00\",\"#ff9300\",\"#ff9300\",\"#ff9900\",\"#ff9900\",\"#ff9900\",\"#ff9e00\",\"#ff9e00\",\"#ffa400\",\"#ffa400\",\"#ffa900\",\"#ffa900\",\"#ffae00\",\"#ffae00\",\"#ffae00\",\"#ffb400\",\"#ffb400\",\"#ffb900\",\"#ffb900\",\"#ffbf00\",\"#ffbf00\",\"#ffc400\",\"#ffc400\",\"#ffc400\",\"#ffc900\",\"#ffc900\",\"#ffcf00\",\"#ffcf00\",\"#ffd400\",\"#ffd400\",\"#ffda00\",\"#ffda00\",\"#ffda00\",\"#ffdf00\",\"#ffdf00\",\"#ffe400\",\"#ffe400\",\"#ffea00\",\"#ffea00\",\"#ffef00\",\"#ffef00\",\"#ffef00\",\"#fff500\",\"#fff500\",\"#fffa00\",\"#fffa00\",\"#feff00\",\"#feff00\",\"#f8ff00\",\"#f8ff00\",\"#f8ff00\",\"#f3ff00\",\"#f3ff00\",\"#edff00\",\"#edff00\",\"#e8ff00\",\"#e8ff00\",\"#e3ff00\",\"#e3ff00\",\"#e3ff00\",\"#ddff00\",\"#ddff00\",\"#d8ff00\",\"#d8ff00\",\"#d2ff00\",\"#d2ff00\",\"#cdff00\",\"#cdff00\",\"#cdff00\",\"#c7ff00\",\"#c7ff00\",\"#c2ff00\",\"#c2ff00\",\"#bdff00\",\"#bdff00\",\"#b7ff00\",\"#b7ff00\",\"#b7ff00\",\"#b2ff00\",\"#b2ff00\",\"#acff00\",\"#acff00\",\"#a7ff00\",\"#a7ff00\",\"#a2ff00\",\"#a2ff00\",\"#a2ff00\",\"#9cff00\",\"#9cff00\",\"#97ff00\",\"#97ff00\",\"#91ff00\",\"#91ff00\",\"#8cff00\",\"#8cff00\",\"#8cff00\",\"#87ff00\",\"#87ff00\",\"#81ff00\",\"#81ff00\",\"#7cff00\",\"#7cff00\",\"#76ff00\",\"#76ff00\",\"#76ff00\",\"#71ff00\",\"#71ff00\",\"#6cff00\",\"#6cff00\",\"#66ff00\",\"#66ff00\",\"#61ff00\",\"#61ff00\",\"#61ff00\",\"#5bff00\",\"#5bff00\",\"#56ff00\",\"#56ff00\",\"#51ff00\",\"#51ff00\",\"#4bff00\",\"#4bff00\",\"#4bff00\",\"#46ff00\",\"#46ff00\",\"#40ff00\",\"#40ff00\",\"#3bff00\",\"#3bff00\",\"#36ff00\",\"#36ff00\",\"#36ff00\",\"#30ff00\",\"#30ff00\",\"#2bff00\",\"#2bff00\",\"#25ff00\",\"#25ff00\",\"#20ff00\",\"#20ff00\",\"#20ff00\",\"#1bff00\",\"#1bff00\",\"#15ff00\",\"#15ff00\",\"#10ff00\",\"#10ff00\",\"#0aff00\",\"#0aff00\",\"#0aff00\",\"#05ff00\",\"#05ff00\",\"#00ff00\",\"#00ff00\",\"#00ff05\",\"#00ff05\",\"#00ff0a\",\"#00ff0a\",\"#00ff0a\",\"#00ff10\",\"#00ff10\",\"#00ff15\",\"#00ff15\",\"#00ff1a\",\"#00ff1a\",\"#00ff20\",\"#00ff20\",\"#00ff20\",\"#00ff25\",\"#00ff25\",\"#00ff2b\",\"#00ff2b\",\"#00ff30\",\"#00ff30\",\"#00ff35\",\"#00ff35\",\"#00ff35\",\"#00ff3b\",\"#00ff3b\",\"#00ff40\",\"#00ff40\",\"#00ff45\",\"#00ff45\",\"#00ff4b\",\"#00ff4b\",\"#00ff4b\",\"#00ff50\",\"#00ff50\",\"#00ff56\",\"#00ff56\",\"#00ff5b\",\"#00ff5b\",\"#00ff60\",\"#00ff60\",\"#00ff60\",\"#00ff66\",\"#00ff66\",\"#00ff6b\",\"#00ff6b\",\"#00ff70\",\"#00ff70\",\"#00ff76\",\"#00ff76\",\"#00ff76\",\"#00ff7b\",\"#00ff7b\",\"#00ff81\",\"#00ff81\",\"#00ff86\",\"#00ff86\",\"#00ff8b\",\"#00ff8b\",\"#00ff8b\",\"#00ff91\",\"#00ff91\",\"#00ff96\",\"#00ff96\",\"#00ff9b\",\"#00ff9b\",\"#00ffa1\",\"#00ffa1\",\"#00ffa1\",\"#00ffa6\",\"#00ffa6\",\"#00ffac\",\"#00ffac\",\"#00ffb1\",\"#00ffb1\",\"#00ffb6\",\"#00ffb6\",\"#00ffb6\",\"#00ffbc\",\"#00ffbc\",\"#00ffc1\",\"#00ffc1\",\"#00ffc6\",\"#00ffc6\",\"#00ffcc\",\"#00ffcc\",\"#00ffcc\",\"#00ffd1\",\"#00ffd1\",\"#00ffd7\",\"#00ffd7\",\"#00ffdc\",\"#00ffdc\",\"#00ffe1\",\"#00ffe1\",\"#00ffe1\",\"#00ffe7\",\"#00ffe7\",\"#00ffec\",\"#00ffec\",\"#00fff1\",\"#00fff1\",\"#00fff7\",\"#00fff7\",\"#00fff7\",\"#00fffc\",\"#00fffc\",\"#00fbff\",\"#00fbff\",\"#00f6ff\",\"#00f6ff\",\"#00f1ff\",\"#00f1ff\",\"#00f1ff\",\"#00ebff\",\"#00ebff\",\"#00e6ff\",\"#00e6ff\",\"#00e0ff\",\"#00e0ff\",\"#00dbff\",\"#00dbff\",\"#00dbff\",\"#00d5ff\",\"#00d5ff\",\"#00d0ff\",\"#00d0ff\",\"#00caff\",\"#00caff\",\"#00c5ff\",\"#00c5ff\",\"#00c5ff\",\"#00c0ff\",\"#00c0ff\",\"#00baff\",\"#00baff\",\"#00b5ff\",\"#00b5ff\",\"#00afff\",\"#00afff\",\"#00afff\",\"#00aaff\",\"#00aaff\",\"#00a4ff\",\"#00a4ff\",\"#009fff\",\"#009fff\",\"#009aff\",\"#009aff\",\"#009aff\",\"#0094ff\",\"#0094ff\",\"#008fff\",\"#008fff\",\"#0089ff\",\"#0089ff\",\"#0084ff\",\"#0084ff\",\"#0084ff\",\"#007eff\",\"#007eff\",\"#0079ff\",\"#0079ff\",\"#0074ff\",\"#0074ff\",\"#006eff\",\"#006eff\",\"#006eff\",\"#0069ff\",\"#0069ff\",\"#0063ff\",\"#0063ff\",\"#005eff\",\"#005eff\",\"#0058ff\",\"#0058ff\",\"#0058ff\",\"#0053ff\",\"#0053ff\",\"#004dff\",\"#004dff\",\"#0048ff\",\"#0048ff\",\"#0043ff\",\"#0043ff\",\"#0043ff\",\"#003dff\",\"#003dff\",\"#0038ff\",\"#0038ff\",\"#0032ff\",\"#0032ff\",\"#002dff\",\"#002dff\",\"#002dff\",\"#0027ff\",\"#0027ff\",\"#0022ff\",\"#0022ff\",\"#001dff\",\"#001dff\",\"#0017ff\",\"#0017ff\",\"#0017ff\",\"#0012ff\",\"#0012ff\",\"#000cff\",\"#000cff\",\"#0007ff\",\"#0007ff\",\"#0001ff\",\"#0001ff\",\"#0001ff\",\"#0300ff\",\"#0300ff\",\"#0800ff\",\"#0800ff\",\"#0e00ff\",\"#0e00ff\",\"#1300ff\",\"#1300ff\",\"#1300ff\",\"#1900ff\",\"#1900ff\",\"#1e00ff\",\"#1e00ff\",\"#2400ff\",\"#2400ff\",\"#2900ff\",\"#2900ff\",\"#2900ff\",\"#2f00ff\",\"#2f00ff\",\"#3400ff\",\"#3400ff\",\"#3900ff\",\"#3900ff\",\"#3f00ff\",\"#3f00ff\",\"#3f00ff\",\"#4400ff\",\"#4400ff\",\"#4a00ff\",\"#4a00ff\",\"#4f00ff\",\"#4f00ff\",\"#5500ff\",\"#5500ff\",\"#5500ff\",\"#5a00ff\",\"#5a00ff\",\"#5f00ff\",\"#5f00ff\",\"#6500ff\",\"#6500ff\",\"#6a00ff\",\"#6a00ff\",\"#6a00ff\",\"#7000ff\",\"#7000ff\",\"#7500ff\",\"#7500ff\",\"#7b00ff\",\"#7b00ff\",\"#8000ff\",\"#8000ff\",\"#8000ff\",\"#8500ff\",\"#8500ff\",\"#8b00ff\",\"#8b00ff\",\"#9000ff\",\"#9000ff\",\"#9600ff\",\"#9600ff\",\"#9600ff\",\"#9b00ff\",\"#9b00ff\",\"#a100ff\",\"#a100ff\",\"#a600ff\",\"#a600ff\",\"#ac00ff\",\"#ac00ff\",\"#ac00ff\",\"#b100ff\",\"#b100ff\",\"#b600ff\",\"#b600ff\",\"#bc00ff\",\"#bc00ff\",\"#c100ff\",\"#c100ff\",\"#c100ff\",\"#c700ff\",\"#c700ff\",\"#cc00ff\",\"#cc00ff\",\"#d200ff\",\"#d200ff\",\"#d700ff\",\"#d700ff\",\"#d700ff\",\"#dc00ff\",\"#dc00ff\",\"#e200ff\",\"#e200ff\",\"#e700ff\",\"#e700ff\",\"#ed00ff\",\"#ed00ff\",\"#ed00ff\",\"#f200ff\",\"#f200ff\",\"#f800ff\",\"#f800ff\",\"#fd00ff\",\"#fd00ff\",\"#ff00fb\",\"#ff00fb\",\"#ff00fb\",\"#ff00f5\",\"#ff00f5\",\"#ff00f0\",\"#ff00f0\",\"#ff00ea\",\"#ff00ea\",\"#ff00e5\",\"#ff00e5\",\"#ff00e5\",\"#ff00df\",\"#ff00df\",\"#ff00da\",\"#ff00da\",\"#ff00d4\",\"#ff00d4\",\"#ff00cf\",\"#ff00cf\",\"#ff00cf\",\"#ff00ca\",\"#ff00ca\",\"#ff00c4\",\"#ff00c4\",\"#ff00bf\",\"#ff00bf\",\"#ff00bf\"],\"factors\":[\"hami\",\"adamstown\",\"college\",\"port-aux-francais\",\"koungou\",\"georgetown\",\"katsuren-haebaru\",\"iskateley\",\"olonkinbyen\",\"thompson\",\"swift current\",\"papatowai\",\"grytviken\",\"sepuka\",\"ilulissat\",\"port lincoln\",\"trondheim\",\"tralee\",\"edinburgh of the seven seas\",\"albany\",\"hermanus\",\"mejit\",\"bredasdorp\",\"yellowknife\",\"atafu village\",\"avarua\",\"kodiak\",\"punta arenas\",\"waitangi\",\"utrik\",\"cabo san lucas\",\"cabedelo\",\"petropavlovsk-kamchatsky\",\"howard springs\",\"al kharijah\",\"mount isa\",\"fukuecho\",\"brandys nad labem-stara boleslav\",\"priargunsk\",\"hawaiian paradise park\",\"enewetak\",\"nadi\",\"san antonio de pale\",\"tsiombe\",\"puerto natales\",\"suluova\",\"whitehorse\",\"mili\",\"mount gambier\",\"san patricio\",\"sao vicente\",\"arroyo\",\"matoury\",\"tsaratanana\",\"opuwo\",\"taroa\",\"newman\",\"port mathurin\",\"puerto ayora\",\"praia da vitoria\",\"siguiri\",\"west island\",\"suva\",\"trabzon\",\"mahina\",\"ushuaia\",\"gharyan\",\"snihurivka\",\"song cau\",\"prince george\",\"kargasok\",\"sur\",\"crane\",\"bethel\",\"horodnya\",\"stanley\",\"weno\",\"udachny\",\"zouerate\",\"ebon\",\"hamilton\",\"iqaluit\",\"blackmans bay\",\"longyearbyen\",\"afaahiti\",\"margaret river\",\"new norfolk\",\"vincennes\",\"haiku-pauwela\",\"ust-nera\",\"lihue\",\"palikir - national government center\",\"celestun\",\"tazacorte\",\"bayanhongor\",\"beypore\",\"ancud\",\"ko pha ngan\",\"shingu\",\"mugia\",\"tiksi\",\"tazovsky\",\"inarajan village\",\"ji'an\",\"port elizabeth\",\"griffith\",\"acarau\",\"aqadyr\",\"northam\",\"tolanaro\",\"ibshaway\",\"namibe\",\"khromtau\",\"port isabel\",\"la'ie\",\"vamospercs\",\"buka\",\"bikenibeu village\",\"sao joao da barra\",\"kodinsk\",\"embarcacion\",\"ipora\",\"invercargill\",\"champerico\",\"richards bay\",\"zalingei\",\"lompoc\",\"lebu\",\"bulayevo\",\"dudinka\",\"ujae\",\"livno\",\"colonia general alfredo stroessner\",\"katsuura\",\"tudela\",\"olyokminsk\",\"kuusamo\",\"karasuk\",\"castillos\",\"keflavik\",\"mao\",\"chhapar\",\"kingston\",\"umm kaddadah\",\"laguna\",\"pechory\",\"galliano\",\"sylva\",\"qaqortoq\",\"wailua homesteads\",\"lazaro cardenas\",\"ishikari\",\"don sak\",\"baiyin\",\"bilibino\",\"happy valley-goose bay\",\"arraial do cabo\",\"fasa\",\"yeppoon\",\"aragarcas\",\"grand-bassam\",\"khandyga\",\"khairagarh\",\"badger\",\"springfield\",\"kumertau\",\"flying fish cove\",\"divnogorsk\",\"carnarvon\",\"tidjikja\",\"jaisalmer\",\"bamboo flat\",\"egilsstadir\",\"santa isabel\",\"fort mcmurray\",\"glace bay\",\"new plymouth\",\"xining\",\"ouallam\",\"nemuro\",\"kuching\",\"touros\",\"uturoa\",\"queenstown\",\"nova sintra\",\"sambava\",\"kuraymah\",\"mumford\",\"ribeira grande\",\"luganville\",\"port alfred\",\"trenggalek\",\"itoman\",\"san felipe\",\"hadibu\",\"darwin\",\"trincomalee\",\"nagqu\",\"alappuzha\",\"barra do bugres\",\"klyuchi\",\"soure\",\"susanville\",\"gadzhiyevo\",\"ribeira brava\",\"cidreira\",\"banda aceh\",\"al jawf\",\"slave lake\",\"kalifornsky\",\"san jose\",\"zarghun shahr\",\"dazhou\",\"aswan\",\"waiuku\",\"kharp\",\"chonchi\",\"al burayqah\",\"itaituba\",\"esil\",\"north ward\",\"torrington\",\"niafunke\",\"new ulm\",\"brigantine\",\"lib\",\"lagunas\",\"tres arroyos\",\"matane\",\"el granada\",\"isafjordur\",\"colonia\",\"chadron\",\"south hill\",\"tadine\",\"morehead city\",\"bobbili\",\"lobujya\",\"lethem\",\"oranjemund\",\"babina\",\"sitka\",\"dryden\",\"kawerau\",\"grand falls-windsor\",\"ardakan\",\"vilyuchinsk\",\"misratah\",\"olinda\",\"jamestown\",\"nar'yan-mar\",\"puerto aysen\",\"okhotsk\",\"howrah\",\"lata\",\"west bay\",\"at taj\",\"kegeyli shahar\",\"nioki\",\"mar del plata\",\"gizo\",\"zaslawye\",\"bel ombre\",\"al bawiti\",\"kamiiso\",\"vila do maio\",\"fale old settlement\",\"bodaybo\",\"aripuana\",\"desaguadero\",\"talnakh\",\"tuni\",\"ambodifotatra\",\"karakol\",\"emerald\",\"saint-francois\",\"harper\",\"fort bragg\",\"arrah\",\"cuenca\",\"taltal\",\"bridgewater\",\"susuman\",\"hotan\",\"chui\",\"kerikeri\",\"holualoa\",\"el calafate\",\"ketchikan\",\"ola\",\"box elder\",\"paita\",\"plastun\",\"dingalan\",\"bol'shoye boldino\",\"alofi\",\"mega\",\"lichinga\",\"castro\",\"kone\",\"vorkuta\",\"lamu\",\"srandakan\",\"bani walid\",\"galle\",\"walvis bay\",\"freetown\",\"san sebastian de la gomera\",\"san carlos\",\"constantia\",\"tshikapa\",\"christchurch\",\"aoulef\",\"saint-mandrier-sur-mer\",\"berezovyy\",\"ivins\",\"bonthe\",\"comodoro rivadavia\",\"changling\",\"wynyard\",\"ballina\",\"gubkinskiy\",\"dillon\",\"pushkinskiye gory\",\"magadan\",\"jingdezhen\",\"altai\",\"vinogradovo\",\"casablanca\",\"mumbwa\",\"labasa\",\"sorbhog\",\"margate\",\"chul'man\",\"vila franca do campo\",\"kourou\",\"ciudad lazaro cardenas\",\"codrington\",\"broken hill\",\"taoudenni\",\"sandnessjoen\",\"shalqar\",\"laela\",\"vernon\",\"zheleznogorsk-ilimskiy\",\"tandil\",\"hastings\",\"jimma\",\"ocos\",\"saudarkrokur\",\"puerto baquerizo moreno\",\"utica\",\"saipan\",\"pemangkat\",\"yei\",\"kununurra\",\"izhmorskiy\",\"shimoda\",\"copala\",\"kapa'a\",\"tirmiz\",\"cobourg\",\"bardai\",\"biaora\",\"la ronge\",\"tarko-sale\",\"vlore\",\"kencong\",\"levuka\",\"fort st. john\",\"smara\",\"cabinda\",\"kailua-kona\",\"chavusy\",\"gargalianoi\",\"arkhangel'sk\",\"namdrik\",\"port hedland\",\"sinop\",\"tabou\",\"scottburgh\",\"rafaela\",\"chibougamau\",\"chaparral\",\"kouroussa\",\"pangkalpinang\",\"arica\",\"barah\",\"saint-philippe\",\"malvik\",\"alesund\",\"yuryuzan'\",\"mahdia\",\"akureyri\",\"vorgashor\",\"blairgowrie\",\"hakha\",\"chita\",\"mount pearl\",\"aasiaat\",\"zeya\",\"nuku'alofa\",\"la libertad\",\"kiama\",\"charters towers\",\"jayapura\",\"zintan\",\"calella\",\"cockburn town\",\"zomba\",\"mata-utu\",\"shakawe\",\"remire-montjoly\",\"amga\",\"severo-yeniseyskiy\",\"ambajogai\",\"yunguyo\",\"coquimbo\",\"st. john's\",\"boca suno\",\"whitecourt\",\"anadyr\",\"pisco\",\"ouarzazat\",\"churapcha\",\"gokwe\",\"puerto deseado\",\"daru\",\"chunar\",\"necochea\",\"selfoss\",\"cambria\",\"letterkenny\",\"tshabong\",\"port-gentil\",\"san jose del cabo\",\"zhaotong\",\"kiboga\",\"idri\",\"natal\",\"caaguazu\",\"neftegorsk\",\"greymouth\",\"tindouf\",\"affery\",\"yarmouth\",\"acapulco de juarez\",\"umluj\",\"quellon\",\"viedma\",\"huarmey\",\"okahandja\",\"novodzhereliyevskaya\",\"smithers\",\"san juan\",\"east london\",\"qarazhal\",\"siluko\",\"inhambane\",\"ghat\",\"vilyuysk\",\"murghob\",\"anderstorp\",\"cleveland\",\"bokovskaya\",\"isla aguada\",\"blenheim\",\"tosontsengel\",\"north bend\",\"moscow\",\"karachi\",\"ta'if\",\"pekalongan\",\"zuwarah\",\"belmonte\",\"laikit, laikit ii (dimembe)\",\"merizo village\",\"tangalle\",\"teguise\",\"watsa\",\"fada\",\"fort abbas\",\"piripiri\",\"saynshand\",\"xiangyang\",\"tura\",\"cartagena del chaira\",\"portland\",\"zapadnaya dvina\",\"harstad\",\"kruisfontein\",\"solleftea\",\"malanville\",\"pokhara\",\"sechura\",\"vadso\",\"la passe\",\"yankton\",\"minas de marcona\",\"tommot\",\"karratha\",\"kalkaman\",\"tilisarao\",\"arkalyk\",\"altamira\",\"atoyac de alvarez\",\"nampula\",\"santander jimenez\",\"okaya\",\"leava\",\"luanda\",\"canchungo\",\"lospalos\",\"villa gesell\",\"hirara\",\"las veredas\",\"nyaungdon\",\"lusaka\",\"kish\",\"palmer\",\"port moresby\",\"correia pinto\",\"afgooye\",\"camargo\",\"preobrazheniye\",\"nushki\",\"panjab\",\"kasserine\",\"manado\",\"mount carmel\",\"port douglas\",\"mbala\",\"kiunga\",\"ad dilam\",\"clorinda\",\"kayangel\",\"huruta\",\"rongelap\",\"rikaze\",\"lere\",\"le vauclin\",\"powell\",\"derince\",\"berezovo\",\"champasak\",\"roxborough park\",\"plouzane\",\"sorada\",\"alice springs\",\"sibolga\",\"qufu\",\"datong\",\"la junta\",\"nehe\",\"zaragoza\",\"coahuayana de hidalgo\",\"micheweni\",\"baidoa\",\"buala\",\"sarandi del yi\",\"sinabang\",\"villa regina\",\"chernyshevskiy\",\"show low\",\"winchester\",\"loushanguan\",\"kasoa\",\"seven pagodas\",\"myeik\",\"ke-macina\",\"aktau\",\"wanning\",\"pokrov\",\"rio grande\",\"qarqaraly\",\"andovoranto\",\"monrovia\"]}}},\"fill_alpha\":{\"type\":\"value\",\"value\":0.6},\"hatch_alpha\":{\"type\":\"value\",\"value\":0.6}}},\"selection_glyph\":{\"type\":\"object\",\"name\":\"Scatter\",\"id\":\"p1198\",\"attributes\":{\"tags\":[\"apply_ranges\"],\"x\":{\"type\":\"field\",\"field\":\"Lng\"},\"y\":{\"type\":\"field\",\"field\":\"Lat\"},\"size\":{\"type\":\"field\",\"field\":\"size\"},\"angle\":{\"type\":\"value\",\"value\":0.0},\"line_color\":{\"type\":\"value\",\"value\":\"black\"},\"line_alpha\":{\"type\":\"value\",\"value\":0.6},\"line_width\":{\"type\":\"value\",\"value\":1},\"line_join\":{\"type\":\"value\",\"value\":\"bevel\"},\"line_cap\":{\"type\":\"value\",\"value\":\"butt\"},\"line_dash\":{\"type\":\"value\",\"value\":[]},\"line_dash_offset\":{\"type\":\"value\",\"value\":0},\"fill_color\":{\"type\":\"field\",\"field\":\"fill_color\",\"transform\":{\"id\":\"p1181\"}},\"fill_alpha\":{\"type\":\"value\",\"value\":0.6},\"hatch_color\":{\"type\":\"value\",\"value\":\"black\"},\"hatch_alpha\":{\"type\":\"value\",\"value\":0.6},\"hatch_scale\":{\"type\":\"value\",\"value\":12.0},\"hatch_pattern\":{\"type\":\"value\",\"value\":null},\"hatch_weight\":{\"type\":\"value\",\"value\":1.0},\"marker\":{\"type\":\"value\",\"value\":\"circle\"}}},\"nonselection_glyph\":{\"type\":\"object\",\"name\":\"Scatter\",\"id\":\"p1189\",\"attributes\":{\"tags\":[\"apply_ranges\"],\"x\":{\"type\":\"field\",\"field\":\"Lng\"},\"y\":{\"type\":\"field\",\"field\":\"Lat\"},\"size\":{\"type\":\"field\",\"field\":\"size\"},\"line_alpha\":{\"type\":\"value\",\"value\":0.6},\"fill_color\":{\"type\":\"field\",\"field\":\"fill_color\",\"transform\":{\"id\":\"p1181\"}},\"fill_alpha\":{\"type\":\"value\",\"value\":0.6},\"hatch_alpha\":{\"type\":\"value\",\"value\":0.1}}},\"muted_glyph\":{\"type\":\"object\",\"name\":\"Scatter\",\"id\":\"p1190\",\"attributes\":{\"tags\":[\"apply_ranges\"],\"x\":{\"type\":\"field\",\"field\":\"Lng\"},\"y\":{\"type\":\"field\",\"field\":\"Lat\"},\"size\":{\"type\":\"field\",\"field\":\"size\"},\"line_alpha\":{\"type\":\"value\",\"value\":0.2},\"fill_color\":{\"type\":\"field\",\"field\":\"fill_color\",\"transform\":{\"id\":\"p1181\"}},\"fill_alpha\":{\"type\":\"value\",\"value\":0.2},\"hatch_alpha\":{\"type\":\"value\",\"value\":0.2}}}}}],\"toolbar\":{\"type\":\"object\",\"name\":\"Toolbar\",\"id\":\"p1153\",\"attributes\":{\"tools\":[{\"type\":\"object\",\"name\":\"WheelZoomTool\",\"id\":\"p1129\",\"attributes\":{\"renderers\":\"auto\",\"zoom_on_axis\":false}},{\"type\":\"object\",\"name\":\"BoxZoomTool\",\"id\":\"p1130\",\"attributes\":{\"overlay\":{\"type\":\"object\",\"name\":\"BoxAnnotation\",\"id\":\"p1006\",\"attributes\":{\"syncable\":false,\"level\":\"overlay\",\"visible\":false,\"left\":{\"type\":\"number\",\"value\":\"nan\"},\"right\":{\"type\":\"number\",\"value\":\"nan\"},\"top\":{\"type\":\"number\",\"value\":\"nan\"},\"bottom\":{\"type\":\"number\",\"value\":\"nan\"},\"left_units\":\"canvas\",\"right_units\":\"canvas\",\"top_units\":\"canvas\",\"bottom_units\":\"canvas\",\"line_color\":\"black\",\"line_alpha\":1.0,\"line_width\":2,\"line_dash\":[4,4],\"fill_color\":\"lightgrey\",\"fill_alpha\":0.5}},\"match_aspect\":true}},{\"type\":\"object\",\"name\":\"HoverTool\",\"id\":\"p1143\",\"attributes\":{\"tags\":[\"hv_created\"],\"renderers\":[{\"id\":\"p1191\"}],\"tooltips\":[[\"Lng\",\"$x{custom}\"],[\"Lat\",\"$y{custom}\"],[\"City\",\"@{City}\"],[\"Max Temp\",\"@{Max_Temp}\"],[\"Humidity\",\"@{Humidity}\"],[\"Cloudiness\",\"@{Cloudiness}\"],[\"Wind Speed\",\"@{Wind_Speed}\"]],\"formatters\":{\"type\":\"map\",\"entries\":[[\"$x\",{\"type\":\"object\",\"name\":\"CustomJSHover\",\"id\":\"p1196\",\"attributes\":{\"code\":\"\\n        const projections = Bokeh.require(\\\"core/util/projections\\\");\\n        const {snap_x, snap_y} = special_vars\\n        const coords = projections.wgs84_mercator.invert(snap_x, snap_y)\\n        return \\\"\\\" + (coords[0]).toFixed(4)\\n    \"}}],[\"$y\",{\"type\":\"object\",\"name\":\"CustomJSHover\",\"id\":\"p1197\",\"attributes\":{\"code\":\"\\n        const projections = Bokeh.require(\\\"core/util/projections\\\");\\n        const {snap_x, snap_y} = special_vars\\n        const coords = projections.wgs84_mercator.invert(snap_x, snap_y)\\n        return \\\"\\\" + (coords[1]).toFixed(4)\\n    \"}}]]}}},{\"type\":\"object\",\"name\":\"PanTool\",\"id\":\"p1167\"},{\"type\":\"object\",\"name\":\"ResetTool\",\"id\":\"p1168\"}],\"active_drag\":{\"id\":\"p1167\"}}},\"left\":[{\"type\":\"object\",\"name\":\"LinearAxis\",\"id\":\"p1161\",\"attributes\":{\"ticker\":{\"type\":\"object\",\"name\":\"MercatorTicker\",\"id\":\"p1171\",\"attributes\":{\"mantissas\":[1,2,5],\"dimension\":\"lat\"}},\"formatter\":{\"type\":\"object\",\"name\":\"MercatorTickFormatter\",\"id\":\"p1172\",\"attributes\":{\"dimension\":\"lat\"}},\"axis_label\":\"Latitude\",\"major_label_policy\":{\"type\":\"object\",\"name\":\"AllLabels\",\"id\":\"p1164\"}}}],\"below\":[{\"type\":\"object\",\"name\":\"LinearAxis\",\"id\":\"p1156\",\"attributes\":{\"ticker\":{\"type\":\"object\",\"name\":\"MercatorTicker\",\"id\":\"p1169\",\"attributes\":{\"mantissas\":[1,2,5],\"dimension\":\"lon\"}},\"formatter\":{\"type\":\"object\",\"name\":\"MercatorTickFormatter\",\"id\":\"p1170\",\"attributes\":{\"dimension\":\"lon\"}},\"axis_label\":\"Longitude\",\"major_label_policy\":{\"type\":\"object\",\"name\":\"AllLabels\",\"id\":\"p1159\"}}}],\"center\":[{\"type\":\"object\",\"name\":\"Grid\",\"id\":\"p1160\",\"attributes\":{\"axis\":{\"id\":\"p1156\"},\"grid_line_color\":null}},{\"type\":\"object\",\"name\":\"Grid\",\"id\":\"p1165\",\"attributes\":{\"dimension\":1,\"axis\":{\"id\":\"p1161\"},\"grid_line_color\":null}},{\"type\":\"object\",\"name\":\"Legend\",\"id\":\"p1194\",\"attributes\":{\"click_policy\":\"mute\",\"items\":[{\"type\":\"object\",\"name\":\"LegendItem\",\"id\":\"p1195\",\"attributes\":{\"label\":{\"type\":\"field\",\"field\":\"fill_color\"},\"renderers\":[{\"id\":\"p1191\"}]}}]}}],\"min_border_top\":10,\"min_border_bottom\":10,\"min_border_left\":10,\"min_border_right\":10,\"output_backend\":\"webgl\"}},{\"type\":\"object\",\"name\":\"Spacer\",\"id\":\"p1200\",\"attributes\":{\"name\":\"HSpacer01820\",\"stylesheets\":[\"\\n:host(.pn-loading):before, .pn-loading:before {\\n  background-color: #c3c3c3;\\n  mask-size: auto calc(min(50%, 400px));\\n  -webkit-mask-size: auto calc(min(50%, 400px));\\n}\",{\"id\":\"p1114\"},{\"id\":\"p1112\"},{\"id\":\"p1113\"}],\"margin\":0,\"sizing_mode\":\"stretch_width\",\"align\":\"start\"}}]}}],\"defs\":[{\"type\":\"model\",\"name\":\"ReactiveHTML1\"},{\"type\":\"model\",\"name\":\"FlexBox1\",\"properties\":[{\"name\":\"align_content\",\"kind\":\"Any\",\"default\":\"flex-start\"},{\"name\":\"align_items\",\"kind\":\"Any\",\"default\":\"flex-start\"},{\"name\":\"flex_direction\",\"kind\":\"Any\",\"default\":\"row\"},{\"name\":\"flex_wrap\",\"kind\":\"Any\",\"default\":\"wrap\"},{\"name\":\"gap\",\"kind\":\"Any\",\"default\":\"\"},{\"name\":\"justify_content\",\"kind\":\"Any\",\"default\":\"flex-start\"}]},{\"type\":\"model\",\"name\":\"FloatPanel1\",\"properties\":[{\"name\":\"config\",\"kind\":\"Any\",\"default\":{\"type\":\"map\"}},{\"name\":\"contained\",\"kind\":\"Any\",\"default\":true},{\"name\":\"position\",\"kind\":\"Any\",\"default\":\"right-top\"},{\"name\":\"offsetx\",\"kind\":\"Any\",\"default\":null},{\"name\":\"offsety\",\"kind\":\"Any\",\"default\":null},{\"name\":\"theme\",\"kind\":\"Any\",\"default\":\"primary\"},{\"name\":\"status\",\"kind\":\"Any\",\"default\":\"normalized\"}]},{\"type\":\"model\",\"name\":\"GridStack1\",\"properties\":[{\"name\":\"mode\",\"kind\":\"Any\",\"default\":\"warn\"},{\"name\":\"ncols\",\"kind\":\"Any\",\"default\":null},{\"name\":\"nrows\",\"kind\":\"Any\",\"default\":null},{\"name\":\"allow_resize\",\"kind\":\"Any\",\"default\":true},{\"name\":\"allow_drag\",\"kind\":\"Any\",\"default\":true},{\"name\":\"state\",\"kind\":\"Any\",\"default\":[]}]},{\"type\":\"model\",\"name\":\"drag1\",\"properties\":[{\"name\":\"slider_width\",\"kind\":\"Any\",\"default\":5},{\"name\":\"slider_color\",\"kind\":\"Any\",\"default\":\"black\"},{\"name\":\"value\",\"kind\":\"Any\",\"default\":50}]},{\"type\":\"model\",\"name\":\"click1\",\"properties\":[{\"name\":\"terminal_output\",\"kind\":\"Any\",\"default\":\"\"},{\"name\":\"debug_name\",\"kind\":\"Any\",\"default\":\"\"},{\"name\":\"clears\",\"kind\":\"Any\",\"default\":0}]},{\"type\":\"model\",\"name\":\"FastWrapper1\",\"properties\":[{\"name\":\"object\",\"kind\":\"Any\",\"default\":null},{\"name\":\"style\",\"kind\":\"Any\",\"default\":null}]},{\"type\":\"model\",\"name\":\"NotificationAreaBase1\",\"properties\":[{\"name\":\"js_events\",\"kind\":\"Any\",\"default\":{\"type\":\"map\"}},{\"name\":\"position\",\"kind\":\"Any\",\"default\":\"bottom-right\"},{\"name\":\"_clear\",\"kind\":\"Any\",\"default\":0}]},{\"type\":\"model\",\"name\":\"NotificationArea1\",\"properties\":[{\"name\":\"js_events\",\"kind\":\"Any\",\"default\":{\"type\":\"map\"}},{\"name\":\"notifications\",\"kind\":\"Any\",\"default\":[]},{\"name\":\"position\",\"kind\":\"Any\",\"default\":\"bottom-right\"},{\"name\":\"_clear\",\"kind\":\"Any\",\"default\":0},{\"name\":\"types\",\"kind\":\"Any\",\"default\":[{\"type\":\"map\",\"entries\":[[\"type\",\"warning\"],[\"background\",\"#ffc107\"],[\"icon\",{\"type\":\"map\",\"entries\":[[\"className\",\"fas fa-exclamation-triangle\"],[\"tagName\",\"i\"],[\"color\",\"white\"]]}]]},{\"type\":\"map\",\"entries\":[[\"type\",\"info\"],[\"background\",\"#007bff\"],[\"icon\",{\"type\":\"map\",\"entries\":[[\"className\",\"fas fa-info-circle\"],[\"tagName\",\"i\"],[\"color\",\"white\"]]}]]}]}]},{\"type\":\"model\",\"name\":\"Notification\",\"properties\":[{\"name\":\"background\",\"kind\":\"Any\",\"default\":null},{\"name\":\"duration\",\"kind\":\"Any\",\"default\":3000},{\"name\":\"icon\",\"kind\":\"Any\",\"default\":null},{\"name\":\"message\",\"kind\":\"Any\",\"default\":\"\"},{\"name\":\"notification_type\",\"kind\":\"Any\",\"default\":null},{\"name\":\"_destroyed\",\"kind\":\"Any\",\"default\":false}]},{\"type\":\"model\",\"name\":\"TemplateActions1\",\"properties\":[{\"name\":\"open_modal\",\"kind\":\"Any\",\"default\":0},{\"name\":\"close_modal\",\"kind\":\"Any\",\"default\":0}]},{\"type\":\"model\",\"name\":\"BootstrapTemplateActions1\",\"properties\":[{\"name\":\"open_modal\",\"kind\":\"Any\",\"default\":0},{\"name\":\"close_modal\",\"kind\":\"Any\",\"default\":0}]},{\"type\":\"model\",\"name\":\"TemplateEditor1\",\"properties\":[{\"name\":\"layout\",\"kind\":\"Any\",\"default\":[]}]},{\"type\":\"model\",\"name\":\"MaterialTemplateActions1\",\"properties\":[{\"name\":\"open_modal\",\"kind\":\"Any\",\"default\":0},{\"name\":\"close_modal\",\"kind\":\"Any\",\"default\":0}]},{\"type\":\"model\",\"name\":\"copy_to_clipboard1\",\"properties\":[{\"name\":\"fill\",\"kind\":\"Any\",\"default\":\"none\"},{\"name\":\"value\",\"kind\":\"Any\",\"default\":null}]}]}};\n",
       "  var render_items = [{\"docid\":\"6ddc050f-4b91-4111-a2cb-c3b31251c0db\",\"roots\":{\"p1111\":\"a64b49c1-e60e-4542-8685-e6c06112bbf5\"},\"root_ids\":[\"p1111\"]}];\n",
       "  var docs = Object.values(docs_json)\n",
       "  if (!docs) {\n",
       "    return\n",
       "  }\n",
       "  const py_version = docs[0].version.replace('rc', '-rc.').replace('.dev', '-dev.')\n",
       "  async function embed_document(root) {\n",
       "    var Bokeh = get_bokeh(root)\n",
       "    await Bokeh.embed.embed_items_notebook(docs_json, render_items);\n",
       "    for (const render_item of render_items) {\n",
       "      for (const root_id of render_item.root_ids) {\n",
       "\tconst id_el = document.getElementById(root_id)\n",
       "\tif (id_el.children.length && id_el.children[0].hasAttribute('data-root-id')) {\n",
       "\t  const root_el = id_el.children[0]\n",
       "\t  root_el.id = root_el.id + '-rendered'\n",
       "\t  for (const child of root_el.children) {\n",
       "            // Ensure JupyterLab does not capture keyboard shortcuts\n",
       "            // see: https://jupyterlab.readthedocs.io/en/4.1.x/extension/notebook.html#keyboard-interaction-model\n",
       "\t    child.setAttribute('data-lm-suppress-shortcuts', 'true')\n",
       "\t  }\n",
       "\t}\n",
       "      }\n",
       "    }\n",
       "  }\n",
       "  function get_bokeh(root) {\n",
       "    if (root.Bokeh === undefined) {\n",
       "      return null\n",
       "    } else if (root.Bokeh.version !== py_version) {\n",
       "      if (root.Bokeh.versions === undefined || !root.Bokeh.versions.has(py_version)) {\n",
       "\treturn null\n",
       "      }\n",
       "      return root.Bokeh.versions.get(py_version);\n",
       "    } else if (root.Bokeh.version === py_version) {\n",
       "      return root.Bokeh\n",
       "    }\n",
       "    return null\n",
       "  }\n",
       "  function is_loaded(root) {\n",
       "    var Bokeh = get_bokeh(root)\n",
       "    return (Bokeh != null && Bokeh.Panel !== undefined)\n",
       "  }\n",
       "  if (is_loaded(root)) {\n",
       "    embed_document(root);\n",
       "  } else {\n",
       "    var attempts = 0;\n",
       "    var timer = setInterval(function(root) {\n",
       "      if (is_loaded(root)) {\n",
       "        clearInterval(timer);\n",
       "        embed_document(root);\n",
       "      } else if (document.readyState == \"complete\") {\n",
       "        attempts++;\n",
       "        if (attempts > 200) {\n",
       "          clearInterval(timer);\n",
       "\t  var Bokeh = get_bokeh(root)\n",
       "\t  if (Bokeh == null || Bokeh.Panel == null) {\n",
       "            console.warn(\"Panel: ERROR: Unable to run Panel code because Bokeh or Panel library is missing\");\n",
       "\t  } else {\n",
       "\t    console.warn(\"Panel: WARNING: Attempting to render but not all required libraries could be resolved.\")\n",
       "\t    embed_document(root)\n",
       "\t  }\n",
       "        }\n",
       "      }\n",
       "    }, 25, root)\n",
       "  }\n",
       "})(window);</script>"
      ],
      "text/plain": [
       ":Overlay\n",
       "   .WMTS.I   :WMTS   [Longitude,Latitude]\n",
       "   .Points.I :Points   [Lng,Lat]   (City,Max Temp,Humidity,Cloudiness,Wind Speed)"
      ]
     },
     "execution_count": 7,
     "metadata": {
      "application/vnd.holoviews_exec.v0+json": {
       "id": "p1111"
      }
     },
     "output_type": "execute_result"
    }
   ],
   "source": [
    "%%capture --no-display\n",
    "\n",
    "# Configure the map plot\n",
    "geoview_dataset = gv.Dataset(city_data_df, kdims=['City', 'Humidity'])\n",
    "points = geoview_dataset.to(gv.Points, ['Lng', 'Lat'], ['City', 'Max Temp', 'Humidity', 'Cloudiness', 'Wind Speed'])\n",
    "osm_map = gv.tile_sources.OSM\n",
    "osm_map.opts(width=1200, height=700) * points.opts(tools=['hover'], size=dim('Humidity')*0.15, color='black', fill_color='City', cmap='gist_rainbow', alpha=0.6)"
   ]
  },
  {
   "cell_type": "markdown",
   "metadata": {},
   "source": [
    "### Step 2: Narrow down the `city_data_df` DataFrame to find your ideal weather condition"
   ]
  },
  {
   "cell_type": "code",
   "execution_count": 8,
   "metadata": {},
   "outputs": [
    {
     "name": "stdout",
     "output_type": "stream",
     "text": [
      "(6, 10)\n"
     ]
    },
    {
     "data": {
      "text/html": [
       "<div>\n",
       "<style scoped>\n",
       "    .dataframe tbody tr th:only-of-type {\n",
       "        vertical-align: middle;\n",
       "    }\n",
       "\n",
       "    .dataframe tbody tr th {\n",
       "        vertical-align: top;\n",
       "    }\n",
       "\n",
       "    .dataframe thead th {\n",
       "        text-align: right;\n",
       "    }\n",
       "</style>\n",
       "<table border=\"1\" class=\"dataframe\">\n",
       "  <thead>\n",
       "    <tr style=\"text-align: right;\">\n",
       "      <th></th>\n",
       "      <th>City_ID</th>\n",
       "      <th>City</th>\n",
       "      <th>Lat</th>\n",
       "      <th>Lng</th>\n",
       "      <th>Max Temp</th>\n",
       "      <th>Humidity</th>\n",
       "      <th>Cloudiness</th>\n",
       "      <th>Wind Speed</th>\n",
       "      <th>Country</th>\n",
       "      <th>Date</th>\n",
       "    </tr>\n",
       "  </thead>\n",
       "  <tbody>\n",
       "    <tr>\n",
       "      <th>34</th>\n",
       "      <td>34</td>\n",
       "      <td>al kharijah</td>\n",
       "      <td>25.4514</td>\n",
       "      <td>30.5464</td>\n",
       "      <td>25.44</td>\n",
       "      <td>25</td>\n",
       "      <td>0</td>\n",
       "      <td>3.83</td>\n",
       "      <td>EG</td>\n",
       "      <td>1717216076</td>\n",
       "    </tr>\n",
       "    <tr>\n",
       "      <th>105</th>\n",
       "      <td>105</td>\n",
       "      <td>griffith</td>\n",
       "      <td>41.5284</td>\n",
       "      <td>-87.4237</td>\n",
       "      <td>21.96</td>\n",
       "      <td>66</td>\n",
       "      <td>0</td>\n",
       "      <td>1.54</td>\n",
       "      <td>US</td>\n",
       "      <td>1717216089</td>\n",
       "    </tr>\n",
       "    <tr>\n",
       "      <th>110</th>\n",
       "      <td>110</td>\n",
       "      <td>ibshaway</td>\n",
       "      <td>29.3580</td>\n",
       "      <td>30.6814</td>\n",
       "      <td>25.76</td>\n",
       "      <td>29</td>\n",
       "      <td>0</td>\n",
       "      <td>1.63</td>\n",
       "      <td>EG</td>\n",
       "      <td>1717216090</td>\n",
       "    </tr>\n",
       "    <tr>\n",
       "      <th>263</th>\n",
       "      <td>263</td>\n",
       "      <td>al bawiti</td>\n",
       "      <td>28.3492</td>\n",
       "      <td>28.8659</td>\n",
       "      <td>25.23</td>\n",
       "      <td>28</td>\n",
       "      <td>0</td>\n",
       "      <td>2.97</td>\n",
       "      <td>EG</td>\n",
       "      <td>1717216115</td>\n",
       "    </tr>\n",
       "    <tr>\n",
       "      <th>439</th>\n",
       "      <td>439</td>\n",
       "      <td>natal</td>\n",
       "      <td>-5.7950</td>\n",
       "      <td>-35.2094</td>\n",
       "      <td>25.12</td>\n",
       "      <td>88</td>\n",
       "      <td>0</td>\n",
       "      <td>3.09</td>\n",
       "      <td>BR</td>\n",
       "      <td>1717216146</td>\n",
       "    </tr>\n",
       "  </tbody>\n",
       "</table>\n",
       "</div>"
      ],
      "text/plain": [
       "     City_ID         City      Lat      Lng  Max Temp  Humidity  Cloudiness  \\\n",
       "34        34  al kharijah  25.4514  30.5464     25.44        25           0   \n",
       "105      105     griffith  41.5284 -87.4237     21.96        66           0   \n",
       "110      110     ibshaway  29.3580  30.6814     25.76        29           0   \n",
       "263      263    al bawiti  28.3492  28.8659     25.23        28           0   \n",
       "439      439        natal  -5.7950 -35.2094     25.12        88           0   \n",
       "\n",
       "     Wind Speed Country        Date  \n",
       "34         3.83      EG  1717216076  \n",
       "105        1.54      US  1717216089  \n",
       "110        1.63      EG  1717216090  \n",
       "263        2.97      EG  1717216115  \n",
       "439        3.09      BR  1717216146  "
      ]
     },
     "execution_count": 8,
     "metadata": {},
     "output_type": "execute_result"
    }
   ],
   "source": [
    "# Narrow down cities that fit criteria and drop any results with null values\n",
    "filtered_cities = city_data_df[city_data_df['Max Temp'].le(27) & city_data_df['Max Temp'].ge(21) &\n",
    "                                city_data_df['Wind Speed'].le(4.5) &\n",
    "                                city_data_df['Cloudiness'].eq(0) ].copy()\n",
    "\n",
    "# Drop any rows with null values\n",
    "filtered_cities.dropna(inplace=True)\n",
    "\n",
    "# Display sample data\n",
    "print(filtered_cities.shape)\n",
    "filtered_cities.head()"
   ]
  },
  {
   "cell_type": "markdown",
   "metadata": {},
   "source": [
    "### Step 3: Create a new DataFrame called `hotel_df`."
   ]
  },
  {
   "cell_type": "code",
   "execution_count": 11,
   "metadata": {},
   "outputs": [
    {
     "data": {
      "text/html": [
       "<div>\n",
       "<style scoped>\n",
       "    .dataframe tbody tr th:only-of-type {\n",
       "        vertical-align: middle;\n",
       "    }\n",
       "\n",
       "    .dataframe tbody tr th {\n",
       "        vertical-align: top;\n",
       "    }\n",
       "\n",
       "    .dataframe thead th {\n",
       "        text-align: right;\n",
       "    }\n",
       "</style>\n",
       "<table border=\"1\" class=\"dataframe\">\n",
       "  <thead>\n",
       "    <tr style=\"text-align: right;\">\n",
       "      <th></th>\n",
       "      <th>City</th>\n",
       "      <th>Country</th>\n",
       "      <th>Lat</th>\n",
       "      <th>Lng</th>\n",
       "      <th>Humidity</th>\n",
       "      <th>Hotel Name</th>\n",
       "    </tr>\n",
       "  </thead>\n",
       "  <tbody>\n",
       "    <tr>\n",
       "      <th>34</th>\n",
       "      <td>al kharijah</td>\n",
       "      <td>EG</td>\n",
       "      <td>25.4514</td>\n",
       "      <td>30.5464</td>\n",
       "      <td>25</td>\n",
       "      <td></td>\n",
       "    </tr>\n",
       "    <tr>\n",
       "      <th>105</th>\n",
       "      <td>griffith</td>\n",
       "      <td>US</td>\n",
       "      <td>41.5284</td>\n",
       "      <td>-87.4237</td>\n",
       "      <td>66</td>\n",
       "      <td></td>\n",
       "    </tr>\n",
       "    <tr>\n",
       "      <th>110</th>\n",
       "      <td>ibshaway</td>\n",
       "      <td>EG</td>\n",
       "      <td>29.3580</td>\n",
       "      <td>30.6814</td>\n",
       "      <td>29</td>\n",
       "      <td></td>\n",
       "    </tr>\n",
       "    <tr>\n",
       "      <th>263</th>\n",
       "      <td>al bawiti</td>\n",
       "      <td>EG</td>\n",
       "      <td>28.3492</td>\n",
       "      <td>28.8659</td>\n",
       "      <td>28</td>\n",
       "      <td></td>\n",
       "    </tr>\n",
       "    <tr>\n",
       "      <th>439</th>\n",
       "      <td>natal</td>\n",
       "      <td>BR</td>\n",
       "      <td>-5.7950</td>\n",
       "      <td>-35.2094</td>\n",
       "      <td>88</td>\n",
       "      <td></td>\n",
       "    </tr>\n",
       "  </tbody>\n",
       "</table>\n",
       "</div>"
      ],
      "text/plain": [
       "            City Country      Lat      Lng  Humidity Hotel Name\n",
       "34   al kharijah      EG  25.4514  30.5464        25           \n",
       "105     griffith      US  41.5284 -87.4237        66           \n",
       "110     ibshaway      EG  29.3580  30.6814        29           \n",
       "263    al bawiti      EG  28.3492  28.8659        28           \n",
       "439        natal      BR  -5.7950 -35.2094        88           "
      ]
     },
     "execution_count": 11,
     "metadata": {},
     "output_type": "execute_result"
    }
   ],
   "source": [
    "# Use the Pandas copy function to create DataFrame called hotel_df to store the city, country, coordinates, and humidity\n",
    "hotel_df = filtered_cities[['City', 'Country', 'Lat', 'Lng', 'Humidity']].copy()\n",
    "\n",
    "# Add an empty column, \"Hotel Name,\" to the DataFrame so you can store the hotel found using the Geoapify API\n",
    "hotel_df['Hotel Name'] = ''\n",
    "\n",
    "# Display sample data\n",
    "hotel_df.head()"
   ]
  },
  {
   "cell_type": "code",
   "execution_count": 12,
   "metadata": {},
   "outputs": [
    {
     "name": "stdout",
     "output_type": "stream",
     "text": [
      "Object '[\"bias\"]' not found in the namespace.\n"
     ]
    }
   ],
   "source": [
    "params[\"bias\"]"
   ]
  },
  {
   "cell_type": "markdown",
   "metadata": {},
   "source": [
    "### Step 4: For each city, use the Geoapify API to find the first hotel located within 10,000 metres of your coordinates."
   ]
  },
  {
   "cell_type": "code",
   "execution_count": 13,
   "metadata": {},
   "outputs": [
    {
     "name": "stdout",
     "output_type": "stream",
     "text": [
      "Starting hotel search\n"
     ]
    },
    {
     "name": "stderr",
     "output_type": "stream",
     "text": [
      "/tmp/ipykernel_16741/1740037471.py:20: FutureWarning: Series.__getitem__ treating keys as positions is deprecated. In a future version, integer keys will always be treated as labels (consistent with DataFrame behavior). To access a value by position, use `ser.iloc[pos]`\n",
      "  lat = row[2]\n",
      "/tmp/ipykernel_16741/1740037471.py:21: FutureWarning: Series.__getitem__ treating keys as positions is deprecated. In a future version, integer keys will always be treated as labels (consistent with DataFrame behavior). To access a value by position, use `ser.iloc[pos]`\n",
      "  lon = row[3]\n"
     ]
    },
    {
     "name": "stdout",
     "output_type": "stream",
     "text": [
      "al kharijah - nearest hotel: Kharga Hotel\n"
     ]
    },
    {
     "name": "stderr",
     "output_type": "stream",
     "text": [
      "/tmp/ipykernel_16741/1740037471.py:20: FutureWarning: Series.__getitem__ treating keys as positions is deprecated. In a future version, integer keys will always be treated as labels (consistent with DataFrame behavior). To access a value by position, use `ser.iloc[pos]`\n",
      "  lat = row[2]\n",
      "/tmp/ipykernel_16741/1740037471.py:21: FutureWarning: Series.__getitem__ treating keys as positions is deprecated. In a future version, integer keys will always be treated as labels (consistent with DataFrame behavior). To access a value by position, use `ser.iloc[pos]`\n",
      "  lon = row[3]\n"
     ]
    },
    {
     "name": "stdout",
     "output_type": "stream",
     "text": [
      "griffith - nearest hotel: Quality Inn & Suites Hammond\n"
     ]
    },
    {
     "name": "stderr",
     "output_type": "stream",
     "text": [
      "/tmp/ipykernel_16741/1740037471.py:20: FutureWarning: Series.__getitem__ treating keys as positions is deprecated. In a future version, integer keys will always be treated as labels (consistent with DataFrame behavior). To access a value by position, use `ser.iloc[pos]`\n",
      "  lat = row[2]\n",
      "/tmp/ipykernel_16741/1740037471.py:21: FutureWarning: Series.__getitem__ treating keys as positions is deprecated. In a future version, integer keys will always be treated as labels (consistent with DataFrame behavior). To access a value by position, use `ser.iloc[pos]`\n",
      "  lon = row[3]\n"
     ]
    },
    {
     "name": "stdout",
     "output_type": "stream",
     "text": [
      "ibshaway - nearest hotel: No hotel found\n"
     ]
    },
    {
     "name": "stderr",
     "output_type": "stream",
     "text": [
      "/tmp/ipykernel_16741/1740037471.py:20: FutureWarning: Series.__getitem__ treating keys as positions is deprecated. In a future version, integer keys will always be treated as labels (consistent with DataFrame behavior). To access a value by position, use `ser.iloc[pos]`\n",
      "  lat = row[2]\n",
      "/tmp/ipykernel_16741/1740037471.py:21: FutureWarning: Series.__getitem__ treating keys as positions is deprecated. In a future version, integer keys will always be treated as labels (consistent with DataFrame behavior). To access a value by position, use `ser.iloc[pos]`\n",
      "  lon = row[3]\n"
     ]
    },
    {
     "name": "stdout",
     "output_type": "stream",
     "text": [
      "al bawiti - nearest hotel: Old Oasis Hotel\n"
     ]
    },
    {
     "name": "stderr",
     "output_type": "stream",
     "text": [
      "/tmp/ipykernel_16741/1740037471.py:20: FutureWarning: Series.__getitem__ treating keys as positions is deprecated. In a future version, integer keys will always be treated as labels (consistent with DataFrame behavior). To access a value by position, use `ser.iloc[pos]`\n",
      "  lat = row[2]\n",
      "/tmp/ipykernel_16741/1740037471.py:21: FutureWarning: Series.__getitem__ treating keys as positions is deprecated. In a future version, integer keys will always be treated as labels (consistent with DataFrame behavior). To access a value by position, use `ser.iloc[pos]`\n",
      "  lon = row[3]\n"
     ]
    },
    {
     "name": "stdout",
     "output_type": "stream",
     "text": [
      "natal - nearest hotel: Natal Palace Hotel\n"
     ]
    },
    {
     "name": "stderr",
     "output_type": "stream",
     "text": [
      "/tmp/ipykernel_16741/1740037471.py:20: FutureWarning: Series.__getitem__ treating keys as positions is deprecated. In a future version, integer keys will always be treated as labels (consistent with DataFrame behavior). To access a value by position, use `ser.iloc[pos]`\n",
      "  lat = row[2]\n",
      "/tmp/ipykernel_16741/1740037471.py:21: FutureWarning: Series.__getitem__ treating keys as positions is deprecated. In a future version, integer keys will always be treated as labels (consistent with DataFrame behavior). To access a value by position, use `ser.iloc[pos]`\n",
      "  lon = row[3]\n"
     ]
    },
    {
     "name": "stdout",
     "output_type": "stream",
     "text": [
      "umluj - nearest hotel: No hotel found\n"
     ]
    },
    {
     "data": {
      "text/html": [
       "<div>\n",
       "<style scoped>\n",
       "    .dataframe tbody tr th:only-of-type {\n",
       "        vertical-align: middle;\n",
       "    }\n",
       "\n",
       "    .dataframe tbody tr th {\n",
       "        vertical-align: top;\n",
       "    }\n",
       "\n",
       "    .dataframe thead th {\n",
       "        text-align: right;\n",
       "    }\n",
       "</style>\n",
       "<table border=\"1\" class=\"dataframe\">\n",
       "  <thead>\n",
       "    <tr style=\"text-align: right;\">\n",
       "      <th></th>\n",
       "      <th>City</th>\n",
       "      <th>Country</th>\n",
       "      <th>Lat</th>\n",
       "      <th>Lng</th>\n",
       "      <th>Humidity</th>\n",
       "      <th>Hotel Name</th>\n",
       "    </tr>\n",
       "  </thead>\n",
       "  <tbody>\n",
       "    <tr>\n",
       "      <th>34</th>\n",
       "      <td>al kharijah</td>\n",
       "      <td>EG</td>\n",
       "      <td>25.4514</td>\n",
       "      <td>30.5464</td>\n",
       "      <td>25</td>\n",
       "      <td>Kharga Hotel</td>\n",
       "    </tr>\n",
       "    <tr>\n",
       "      <th>105</th>\n",
       "      <td>griffith</td>\n",
       "      <td>US</td>\n",
       "      <td>41.5284</td>\n",
       "      <td>-87.4237</td>\n",
       "      <td>66</td>\n",
       "      <td>Quality Inn &amp; Suites Hammond</td>\n",
       "    </tr>\n",
       "    <tr>\n",
       "      <th>110</th>\n",
       "      <td>ibshaway</td>\n",
       "      <td>EG</td>\n",
       "      <td>29.3580</td>\n",
       "      <td>30.6814</td>\n",
       "      <td>29</td>\n",
       "      <td>No hotel found</td>\n",
       "    </tr>\n",
       "    <tr>\n",
       "      <th>263</th>\n",
       "      <td>al bawiti</td>\n",
       "      <td>EG</td>\n",
       "      <td>28.3492</td>\n",
       "      <td>28.8659</td>\n",
       "      <td>28</td>\n",
       "      <td>Old Oasis Hotel</td>\n",
       "    </tr>\n",
       "    <tr>\n",
       "      <th>439</th>\n",
       "      <td>natal</td>\n",
       "      <td>BR</td>\n",
       "      <td>-5.7950</td>\n",
       "      <td>-35.2094</td>\n",
       "      <td>88</td>\n",
       "      <td>Natal Palace Hotel</td>\n",
       "    </tr>\n",
       "    <tr>\n",
       "      <th>447</th>\n",
       "      <td>umluj</td>\n",
       "      <td>SA</td>\n",
       "      <td>25.0213</td>\n",
       "      <td>37.2685</td>\n",
       "      <td>61</td>\n",
       "      <td>No hotel found</td>\n",
       "    </tr>\n",
       "  </tbody>\n",
       "</table>\n",
       "</div>"
      ],
      "text/plain": [
       "            City Country      Lat      Lng  Humidity  \\\n",
       "34   al kharijah      EG  25.4514  30.5464        25   \n",
       "105     griffith      US  41.5284 -87.4237        66   \n",
       "110     ibshaway      EG  29.3580  30.6814        29   \n",
       "263    al bawiti      EG  28.3492  28.8659        28   \n",
       "439        natal      BR  -5.7950 -35.2094        88   \n",
       "447        umluj      SA  25.0213  37.2685        61   \n",
       "\n",
       "                       Hotel Name  \n",
       "34                   Kharga Hotel  \n",
       "105  Quality Inn & Suites Hammond  \n",
       "110                No hotel found  \n",
       "263               Old Oasis Hotel  \n",
       "439            Natal Palace Hotel  \n",
       "447                No hotel found  "
      ]
     },
     "execution_count": 13,
     "metadata": {},
     "output_type": "execute_result"
    }
   ],
   "source": [
    "# Set parameters to search for a hotel\n",
    "radius = 10000\n",
    "params = {\n",
    "    'filter' : {'lat' : '',\n",
    "                'lon' : '',\n",
    "                'search_rad_meters' : 10000,\n",
    "                'category' : 'accommodation.hotel',\n",
    "                'constructed_filter' : ''\n",
    "                },\n",
    "    'bias' : ''\n",
    "    \n",
    "}\n",
    "\n",
    "# Print a message to follow up the hotel search\n",
    "print(\"Starting hotel search\")\n",
    "\n",
    "# Iterate through the hotel_df DataFrame\n",
    "for index, row in hotel_df.iterrows():\n",
    "    # get latitude, longitude from the DataFrame\n",
    "    lat = row[2]\n",
    "    lon = row[3]\n",
    "    \n",
    "    # Add filter and bias parameters with the current city's latitude and longitude to the params dictionary\n",
    "    params[\"filter\"]['lat'] = lat\n",
    "    params[\"filter\"]['lon'] = lon\n",
    "    params['filter']['constructed_filter'] = f'categories={params['filter']['category']}&filter=circle:{params[\"filter\"]['lon']},{params[\"filter\"]['lat']},{params[\"filter\"]['search_rad_meters']}&apiKey={geoapify_key}'\n",
    "\n",
    "    params[\"bias\"] = f'bias=proximity:{params[\"filter\"]['lon']},{params[\"filter\"]['lat']}'\n",
    "    \n",
    "    # Set base URL\n",
    "    base_url = \"https://api.geoapify.com/v2/places\"\n",
    "\n",
    "\n",
    "    # Make and API request using the params dictionaty\n",
    "    name_address = requests.get(f'{base_url}?{params['filter']['constructed_filter']}&{params[\"bias\"]}')\n",
    "    \n",
    "    # Convert the API response to JSON format\n",
    "    name_address = name_address.json()\n",
    "    \n",
    "    # Grab the first hotel from the results and store the name in the hotel_df DataFrame\n",
    "    try:\n",
    "        hotel_df.loc[index, \"Hotel Name\"] = name_address[\"features\"][0][\"properties\"][\"name\"]\n",
    "    except (KeyError, IndexError):\n",
    "        # If no hotel is found, set the hotel name as \"No hotel found\".\n",
    "        hotel_df.loc[index, \"Hotel Name\"] = \"No hotel found\"\n",
    "        \n",
    "    # Log the search results\n",
    "    print(f\"{hotel_df.loc[index, 'City']} - nearest hotel: {hotel_df.loc[index, 'Hotel Name']}\")\n",
    "\n",
    "\n",
    "\n",
    "# Display sample data\n",
    "hotel_df"
   ]
  },
  {
   "cell_type": "markdown",
   "metadata": {},
   "source": [
    "### Step 5: Add the hotel name and the country as additional information in the hover message for each city in the map."
   ]
  },
  {
   "cell_type": "code",
   "execution_count": 18,
   "metadata": {},
   "outputs": [
    {
     "data": {},
     "metadata": {},
     "output_type": "display_data"
    },
    {
     "data": {
      "application/vnd.holoviews_exec.v0+json": "",
      "text/html": [
       "<div id='p1405'>\n",
       "  <div id=\"fb0d0c5d-9243-402e-a9ed-0e50e8d8239e\" data-root-id=\"p1405\" style=\"display: contents;\"></div>\n",
       "</div>\n",
       "<script type=\"application/javascript\">(function(root) {\n",
       "  var docs_json = {\"ba33534a-a0ff-42ae-90cd-cfeedea892de\":{\"version\":\"3.4.1\",\"title\":\"Bokeh Application\",\"roots\":[{\"type\":\"object\",\"name\":\"Row\",\"id\":\"p1405\",\"attributes\":{\"name\":\"Row02239\",\"tags\":[\"embedded\"],\"stylesheets\":[\"\\n:host(.pn-loading):before, .pn-loading:before {\\n  background-color: #c3c3c3;\\n  mask-size: auto calc(min(50%, 400px));\\n  -webkit-mask-size: auto calc(min(50%, 400px));\\n}\",{\"type\":\"object\",\"name\":\"ImportedStyleSheet\",\"id\":\"p1408\",\"attributes\":{\"url\":\"https://cdn.holoviz.org/panel/1.4.4/dist/css/loading.css\"}},{\"type\":\"object\",\"name\":\"ImportedStyleSheet\",\"id\":\"p1496\",\"attributes\":{\"url\":\"https://cdn.holoviz.org/panel/1.4.4/dist/css/listpanel.css\"}},{\"type\":\"object\",\"name\":\"ImportedStyleSheet\",\"id\":\"p1406\",\"attributes\":{\"url\":\"https://cdn.holoviz.org/panel/1.4.4/dist/bundled/theme/default.css\"}},{\"type\":\"object\",\"name\":\"ImportedStyleSheet\",\"id\":\"p1407\",\"attributes\":{\"url\":\"https://cdn.holoviz.org/panel/1.4.4/dist/bundled/theme/native.css\"}}],\"min_width\":1200,\"margin\":0,\"sizing_mode\":\"stretch_width\",\"align\":\"start\",\"children\":[{\"type\":\"object\",\"name\":\"Spacer\",\"id\":\"p1409\",\"attributes\":{\"name\":\"HSpacer02245\",\"stylesheets\":[\"\\n:host(.pn-loading):before, .pn-loading:before {\\n  background-color: #c3c3c3;\\n  mask-size: auto calc(min(50%, 400px));\\n  -webkit-mask-size: auto calc(min(50%, 400px));\\n}\",{\"id\":\"p1408\"},{\"id\":\"p1406\"},{\"id\":\"p1407\"}],\"margin\":0,\"sizing_mode\":\"stretch_width\",\"align\":\"start\"}},{\"type\":\"object\",\"name\":\"Figure\",\"id\":\"p1438\",\"attributes\":{\"width\":1200,\"height\":700,\"margin\":[5,10],\"sizing_mode\":\"fixed\",\"align\":\"start\",\"x_range\":{\"type\":\"object\",\"name\":\"Range1d\",\"id\":\"p1419\",\"attributes\":{\"tags\":[[[\"Longitude\",\"Longitude\",null]],[]],\"start\":-10541667.521867607,\"end\":4958416.197232799,\"reset_start\":-10541667.521867607,\"reset_end\":4958416.197232799,\"min_interval\":5}},\"y_range\":{\"type\":\"object\",\"name\":\"Range1d\",\"id\":\"p1420\",\"attributes\":{\"tags\":[[[\"Latitude\",\"Latitude\",null]],{\"type\":\"map\",\"entries\":[[\"invert_yaxis\",false],[\"autorange\",false]]}],\"start\":-1219878.4738182328,\"end\":5664275.063545273,\"reset_start\":-1219878.4738182328,\"reset_end\":5664275.063545273,\"min_interval\":5}},\"x_scale\":{\"type\":\"object\",\"name\":\"LinearScale\",\"id\":\"p1448\"},\"y_scale\":{\"type\":\"object\",\"name\":\"LinearScale\",\"id\":\"p1449\"},\"title\":{\"type\":\"object\",\"name\":\"Title\",\"id\":\"p1441\",\"attributes\":{\"text_color\":\"black\",\"text_font_size\":\"12pt\"}},\"renderers\":[{\"type\":\"object\",\"name\":\"TileRenderer\",\"id\":\"p1471\",\"attributes\":{\"level\":\"underlay\",\"tile_source\":{\"type\":\"object\",\"name\":\"WMTSTileSource\",\"id\":\"p1467\",\"attributes\":{\"url\":\"https://c.tile.openstreetmap.org/{Z}/{X}/{Y}.png\",\"attribution\":\"&copy; <a href=\\\"https://www.openstreetmap.org/copyright\\\">OpenStreetMap</a> contributors\"}}}},{\"type\":\"object\",\"name\":\"GlyphRenderer\",\"id\":\"p1485\",\"attributes\":{\"name\":\"fill_color\",\"data_source\":{\"type\":\"object\",\"name\":\"ColumnDataSource\",\"id\":\"p1476\",\"attributes\":{\"selected\":{\"type\":\"object\",\"name\":\"Selection\",\"id\":\"p1477\",\"attributes\":{\"indices\":[],\"line_indices\":[]}},\"selection_policy\":{\"type\":\"object\",\"name\":\"UnionRenderers\",\"id\":\"p1478\"},\"data\":{\"type\":\"map\",\"entries\":[[\"Lng\",{\"type\":\"ndarray\",\"array\":{\"type\":\"bytes\",\"data\":\"Q9PG2GzxSUEgbY04749iwY3bk+nGDkpByHAHpQyESEH4WVQ9QudNwUgSqDjzpk9B\"},\"shape\":[6],\"dtype\":\"float64\",\"order\":\"little\"}],[\"Lat\",{\"type\":\"ndarray\",\"array\":{\"type\":\"bytes\",\"data\":\"4Xiozi1dRkGvDA3wSGtTQfCRgmY1GkpBsR+U18cfSUFhWJ8/brgjwUtTw4nM9UVB\"},\"shape\":[6],\"dtype\":\"float64\",\"order\":\"little\"}],[\"Country\",[\"EG\",\"US\",\"EG\",\"EG\",\"BR\",\"SA\"]],[\"City\",[\"al kharijah\",\"griffith\",\"ibshaway\",\"al bawiti\",\"natal\",\"umluj\"]],[\"Hotel_Name\",[\"Kharga Hotel\",\"Quality Inn & Suites Hammond\",\"No hotel found\",\"Old Oasis Hotel\",\"Natal Palace Hotel\",\"No hotel found\"]],[\"Humidity\",{\"type\":\"ndarray\",\"array\":{\"type\":\"bytes\",\"data\":\"GQAAAEIAAAAdAAAAHAAAAFgAAAA9AAAA\"},\"shape\":[6],\"dtype\":\"int32\",\"order\":\"little\"}],[\"fill_color\",[\"al kharijah\",\"griffith\",\"ibshaway\",\"al bawiti\",\"natal\",\"umluj\"]],[\"size\",{\"type\":\"ndarray\",\"array\":{\"type\":\"bytes\",\"data\":\"AAAAAAAAFEBnZmZmZmYqQDQzMzMzMxdAZ2ZmZmZmFkCamZmZmZkxQGdmZmZmZihA\"},\"shape\":[6],\"dtype\":\"float64\",\"order\":\"little\"}]]}}},\"view\":{\"type\":\"object\",\"name\":\"CDSView\",\"id\":\"p1486\",\"attributes\":{\"filter\":{\"type\":\"object\",\"name\":\"AllIndices\",\"id\":\"p1487\"}}},\"glyph\":{\"type\":\"object\",\"name\":\"Scatter\",\"id\":\"p1482\",\"attributes\":{\"tags\":[\"apply_ranges\"],\"x\":{\"type\":\"field\",\"field\":\"Lng\"},\"y\":{\"type\":\"field\",\"field\":\"Lat\"},\"size\":{\"type\":\"field\",\"field\":\"size\"},\"line_alpha\":{\"type\":\"value\",\"value\":0.6},\"fill_color\":{\"type\":\"field\",\"field\":\"fill_color\",\"transform\":{\"type\":\"object\",\"name\":\"CategoricalColorMapper\",\"id\":\"p1475\",\"attributes\":{\"palette\":[\"#ff0028\",\"#ffea00\",\"#00ff00\",\"#00ebff\",\"#2900ff\",\"#ff00bf\"],\"factors\":[\"al kharijah\",\"griffith\",\"ibshaway\",\"al bawiti\",\"natal\",\"umluj\"]}}},\"fill_alpha\":{\"type\":\"value\",\"value\":0.6},\"hatch_alpha\":{\"type\":\"value\",\"value\":0.6}}},\"selection_glyph\":{\"type\":\"object\",\"name\":\"Scatter\",\"id\":\"p1492\",\"attributes\":{\"tags\":[\"apply_ranges\"],\"x\":{\"type\":\"field\",\"field\":\"Lng\"},\"y\":{\"type\":\"field\",\"field\":\"Lat\"},\"size\":{\"type\":\"field\",\"field\":\"size\"},\"angle\":{\"type\":\"value\",\"value\":0.0},\"line_color\":{\"type\":\"value\",\"value\":\"black\"},\"line_alpha\":{\"type\":\"value\",\"value\":0.6},\"line_width\":{\"type\":\"value\",\"value\":1},\"line_join\":{\"type\":\"value\",\"value\":\"bevel\"},\"line_cap\":{\"type\":\"value\",\"value\":\"butt\"},\"line_dash\":{\"type\":\"value\",\"value\":[]},\"line_dash_offset\":{\"type\":\"value\",\"value\":0},\"fill_color\":{\"type\":\"field\",\"field\":\"fill_color\",\"transform\":{\"id\":\"p1475\"}},\"fill_alpha\":{\"type\":\"value\",\"value\":0.6},\"hatch_color\":{\"type\":\"value\",\"value\":\"black\"},\"hatch_alpha\":{\"type\":\"value\",\"value\":0.6},\"hatch_scale\":{\"type\":\"value\",\"value\":12.0},\"hatch_pattern\":{\"type\":\"value\",\"value\":null},\"hatch_weight\":{\"type\":\"value\",\"value\":1.0},\"marker\":{\"type\":\"value\",\"value\":\"circle\"}}},\"nonselection_glyph\":{\"type\":\"object\",\"name\":\"Scatter\",\"id\":\"p1483\",\"attributes\":{\"tags\":[\"apply_ranges\"],\"x\":{\"type\":\"field\",\"field\":\"Lng\"},\"y\":{\"type\":\"field\",\"field\":\"Lat\"},\"size\":{\"type\":\"field\",\"field\":\"size\"},\"line_alpha\":{\"type\":\"value\",\"value\":0.6},\"fill_color\":{\"type\":\"field\",\"field\":\"fill_color\",\"transform\":{\"id\":\"p1475\"}},\"fill_alpha\":{\"type\":\"value\",\"value\":0.6},\"hatch_alpha\":{\"type\":\"value\",\"value\":0.1}}},\"muted_glyph\":{\"type\":\"object\",\"name\":\"Scatter\",\"id\":\"p1484\",\"attributes\":{\"tags\":[\"apply_ranges\"],\"x\":{\"type\":\"field\",\"field\":\"Lng\"},\"y\":{\"type\":\"field\",\"field\":\"Lat\"},\"size\":{\"type\":\"field\",\"field\":\"size\"},\"line_alpha\":{\"type\":\"value\",\"value\":0.2},\"fill_color\":{\"type\":\"field\",\"field\":\"fill_color\",\"transform\":{\"id\":\"p1475\"}},\"fill_alpha\":{\"type\":\"value\",\"value\":0.2},\"hatch_alpha\":{\"type\":\"value\",\"value\":0.2}}}}}],\"toolbar\":{\"type\":\"object\",\"name\":\"Toolbar\",\"id\":\"p1447\",\"attributes\":{\"tools\":[{\"type\":\"object\",\"name\":\"WheelZoomTool\",\"id\":\"p1423\",\"attributes\":{\"renderers\":\"auto\",\"zoom_on_axis\":false}},{\"type\":\"object\",\"name\":\"BoxZoomTool\",\"id\":\"p1424\",\"attributes\":{\"overlay\":{\"type\":\"object\",\"name\":\"BoxAnnotation\",\"id\":\"p1006\",\"attributes\":{\"syncable\":false,\"level\":\"overlay\",\"visible\":false,\"left\":{\"type\":\"number\",\"value\":\"nan\"},\"right\":{\"type\":\"number\",\"value\":\"nan\"},\"top\":{\"type\":\"number\",\"value\":\"nan\"},\"bottom\":{\"type\":\"number\",\"value\":\"nan\"},\"left_units\":\"canvas\",\"right_units\":\"canvas\",\"top_units\":\"canvas\",\"bottom_units\":\"canvas\",\"line_color\":\"black\",\"line_alpha\":1.0,\"line_width\":2,\"line_dash\":[4,4],\"fill_color\":\"lightgrey\",\"fill_alpha\":0.5}},\"match_aspect\":true}},{\"type\":\"object\",\"name\":\"HoverTool\",\"id\":\"p1437\",\"attributes\":{\"tags\":[\"hv_created\"],\"renderers\":[{\"id\":\"p1485\"}],\"tooltips\":[[\"Lng\",\"$x{custom}\"],[\"Lat\",\"$y{custom}\"],[\"Country\",\"@{Country}\"],[\"City\",\"@{City}\"],[\"Hotel Name\",\"@{Hotel_Name}\"],[\"Humidity\",\"@{Humidity}\"]],\"formatters\":{\"type\":\"map\",\"entries\":[[\"$x\",{\"type\":\"object\",\"name\":\"CustomJSHover\",\"id\":\"p1490\",\"attributes\":{\"code\":\"\\n        const projections = Bokeh.require(\\\"core/util/projections\\\");\\n        const {snap_x, snap_y} = special_vars\\n        const coords = projections.wgs84_mercator.invert(snap_x, snap_y)\\n        return \\\"\\\" + (coords[0]).toFixed(4)\\n    \"}}],[\"$y\",{\"type\":\"object\",\"name\":\"CustomJSHover\",\"id\":\"p1491\",\"attributes\":{\"code\":\"\\n        const projections = Bokeh.require(\\\"core/util/projections\\\");\\n        const {snap_x, snap_y} = special_vars\\n        const coords = projections.wgs84_mercator.invert(snap_x, snap_y)\\n        return \\\"\\\" + (coords[1]).toFixed(4)\\n    \"}}]]}}},{\"type\":\"object\",\"name\":\"PanTool\",\"id\":\"p1461\"},{\"type\":\"object\",\"name\":\"ResetTool\",\"id\":\"p1462\"}],\"active_drag\":{\"id\":\"p1461\"}}},\"left\":[{\"type\":\"object\",\"name\":\"LinearAxis\",\"id\":\"p1455\",\"attributes\":{\"ticker\":{\"type\":\"object\",\"name\":\"MercatorTicker\",\"id\":\"p1465\",\"attributes\":{\"mantissas\":[1,2,5],\"dimension\":\"lat\"}},\"formatter\":{\"type\":\"object\",\"name\":\"MercatorTickFormatter\",\"id\":\"p1466\",\"attributes\":{\"dimension\":\"lat\"}},\"axis_label\":\"Latitude\",\"major_label_policy\":{\"type\":\"object\",\"name\":\"AllLabels\",\"id\":\"p1458\"}}}],\"below\":[{\"type\":\"object\",\"name\":\"LinearAxis\",\"id\":\"p1450\",\"attributes\":{\"ticker\":{\"type\":\"object\",\"name\":\"MercatorTicker\",\"id\":\"p1463\",\"attributes\":{\"mantissas\":[1,2,5],\"dimension\":\"lon\"}},\"formatter\":{\"type\":\"object\",\"name\":\"MercatorTickFormatter\",\"id\":\"p1464\",\"attributes\":{\"dimension\":\"lon\"}},\"axis_label\":\"Longitude\",\"major_label_policy\":{\"type\":\"object\",\"name\":\"AllLabels\",\"id\":\"p1453\"}}}],\"center\":[{\"type\":\"object\",\"name\":\"Grid\",\"id\":\"p1454\",\"attributes\":{\"axis\":{\"id\":\"p1450\"},\"grid_line_color\":null}},{\"type\":\"object\",\"name\":\"Grid\",\"id\":\"p1459\",\"attributes\":{\"dimension\":1,\"axis\":{\"id\":\"p1455\"},\"grid_line_color\":null}},{\"type\":\"object\",\"name\":\"Legend\",\"id\":\"p1488\",\"attributes\":{\"click_policy\":\"mute\",\"items\":[{\"type\":\"object\",\"name\":\"LegendItem\",\"id\":\"p1489\",\"attributes\":{\"label\":{\"type\":\"field\",\"field\":\"fill_color\"},\"renderers\":[{\"id\":\"p1485\"}]}}]}}],\"min_border_top\":10,\"min_border_bottom\":10,\"min_border_left\":10,\"min_border_right\":10,\"output_backend\":\"webgl\"}},{\"type\":\"object\",\"name\":\"Spacer\",\"id\":\"p1494\",\"attributes\":{\"name\":\"HSpacer02246\",\"stylesheets\":[\"\\n:host(.pn-loading):before, .pn-loading:before {\\n  background-color: #c3c3c3;\\n  mask-size: auto calc(min(50%, 400px));\\n  -webkit-mask-size: auto calc(min(50%, 400px));\\n}\",{\"id\":\"p1408\"},{\"id\":\"p1406\"},{\"id\":\"p1407\"}],\"margin\":0,\"sizing_mode\":\"stretch_width\",\"align\":\"start\"}}]}}],\"defs\":[{\"type\":\"model\",\"name\":\"ReactiveHTML1\"},{\"type\":\"model\",\"name\":\"FlexBox1\",\"properties\":[{\"name\":\"align_content\",\"kind\":\"Any\",\"default\":\"flex-start\"},{\"name\":\"align_items\",\"kind\":\"Any\",\"default\":\"flex-start\"},{\"name\":\"flex_direction\",\"kind\":\"Any\",\"default\":\"row\"},{\"name\":\"flex_wrap\",\"kind\":\"Any\",\"default\":\"wrap\"},{\"name\":\"gap\",\"kind\":\"Any\",\"default\":\"\"},{\"name\":\"justify_content\",\"kind\":\"Any\",\"default\":\"flex-start\"}]},{\"type\":\"model\",\"name\":\"FloatPanel1\",\"properties\":[{\"name\":\"config\",\"kind\":\"Any\",\"default\":{\"type\":\"map\"}},{\"name\":\"contained\",\"kind\":\"Any\",\"default\":true},{\"name\":\"position\",\"kind\":\"Any\",\"default\":\"right-top\"},{\"name\":\"offsetx\",\"kind\":\"Any\",\"default\":null},{\"name\":\"offsety\",\"kind\":\"Any\",\"default\":null},{\"name\":\"theme\",\"kind\":\"Any\",\"default\":\"primary\"},{\"name\":\"status\",\"kind\":\"Any\",\"default\":\"normalized\"}]},{\"type\":\"model\",\"name\":\"GridStack1\",\"properties\":[{\"name\":\"mode\",\"kind\":\"Any\",\"default\":\"warn\"},{\"name\":\"ncols\",\"kind\":\"Any\",\"default\":null},{\"name\":\"nrows\",\"kind\":\"Any\",\"default\":null},{\"name\":\"allow_resize\",\"kind\":\"Any\",\"default\":true},{\"name\":\"allow_drag\",\"kind\":\"Any\",\"default\":true},{\"name\":\"state\",\"kind\":\"Any\",\"default\":[]}]},{\"type\":\"model\",\"name\":\"drag1\",\"properties\":[{\"name\":\"slider_width\",\"kind\":\"Any\",\"default\":5},{\"name\":\"slider_color\",\"kind\":\"Any\",\"default\":\"black\"},{\"name\":\"value\",\"kind\":\"Any\",\"default\":50}]},{\"type\":\"model\",\"name\":\"click1\",\"properties\":[{\"name\":\"terminal_output\",\"kind\":\"Any\",\"default\":\"\"},{\"name\":\"debug_name\",\"kind\":\"Any\",\"default\":\"\"},{\"name\":\"clears\",\"kind\":\"Any\",\"default\":0}]},{\"type\":\"model\",\"name\":\"FastWrapper1\",\"properties\":[{\"name\":\"object\",\"kind\":\"Any\",\"default\":null},{\"name\":\"style\",\"kind\":\"Any\",\"default\":null}]},{\"type\":\"model\",\"name\":\"NotificationAreaBase1\",\"properties\":[{\"name\":\"js_events\",\"kind\":\"Any\",\"default\":{\"type\":\"map\"}},{\"name\":\"position\",\"kind\":\"Any\",\"default\":\"bottom-right\"},{\"name\":\"_clear\",\"kind\":\"Any\",\"default\":0}]},{\"type\":\"model\",\"name\":\"NotificationArea1\",\"properties\":[{\"name\":\"js_events\",\"kind\":\"Any\",\"default\":{\"type\":\"map\"}},{\"name\":\"notifications\",\"kind\":\"Any\",\"default\":[]},{\"name\":\"position\",\"kind\":\"Any\",\"default\":\"bottom-right\"},{\"name\":\"_clear\",\"kind\":\"Any\",\"default\":0},{\"name\":\"types\",\"kind\":\"Any\",\"default\":[{\"type\":\"map\",\"entries\":[[\"type\",\"warning\"],[\"background\",\"#ffc107\"],[\"icon\",{\"type\":\"map\",\"entries\":[[\"className\",\"fas fa-exclamation-triangle\"],[\"tagName\",\"i\"],[\"color\",\"white\"]]}]]},{\"type\":\"map\",\"entries\":[[\"type\",\"info\"],[\"background\",\"#007bff\"],[\"icon\",{\"type\":\"map\",\"entries\":[[\"className\",\"fas fa-info-circle\"],[\"tagName\",\"i\"],[\"color\",\"white\"]]}]]}]}]},{\"type\":\"model\",\"name\":\"Notification\",\"properties\":[{\"name\":\"background\",\"kind\":\"Any\",\"default\":null},{\"name\":\"duration\",\"kind\":\"Any\",\"default\":3000},{\"name\":\"icon\",\"kind\":\"Any\",\"default\":null},{\"name\":\"message\",\"kind\":\"Any\",\"default\":\"\"},{\"name\":\"notification_type\",\"kind\":\"Any\",\"default\":null},{\"name\":\"_destroyed\",\"kind\":\"Any\",\"default\":false}]},{\"type\":\"model\",\"name\":\"TemplateActions1\",\"properties\":[{\"name\":\"open_modal\",\"kind\":\"Any\",\"default\":0},{\"name\":\"close_modal\",\"kind\":\"Any\",\"default\":0}]},{\"type\":\"model\",\"name\":\"BootstrapTemplateActions1\",\"properties\":[{\"name\":\"open_modal\",\"kind\":\"Any\",\"default\":0},{\"name\":\"close_modal\",\"kind\":\"Any\",\"default\":0}]},{\"type\":\"model\",\"name\":\"TemplateEditor1\",\"properties\":[{\"name\":\"layout\",\"kind\":\"Any\",\"default\":[]}]},{\"type\":\"model\",\"name\":\"MaterialTemplateActions1\",\"properties\":[{\"name\":\"open_modal\",\"kind\":\"Any\",\"default\":0},{\"name\":\"close_modal\",\"kind\":\"Any\",\"default\":0}]},{\"type\":\"model\",\"name\":\"copy_to_clipboard1\",\"properties\":[{\"name\":\"fill\",\"kind\":\"Any\",\"default\":\"none\"},{\"name\":\"value\",\"kind\":\"Any\",\"default\":null}]}]}};\n",
       "  var render_items = [{\"docid\":\"ba33534a-a0ff-42ae-90cd-cfeedea892de\",\"roots\":{\"p1405\":\"fb0d0c5d-9243-402e-a9ed-0e50e8d8239e\"},\"root_ids\":[\"p1405\"]}];\n",
       "  var docs = Object.values(docs_json)\n",
       "  if (!docs) {\n",
       "    return\n",
       "  }\n",
       "  const py_version = docs[0].version.replace('rc', '-rc.').replace('.dev', '-dev.')\n",
       "  async function embed_document(root) {\n",
       "    var Bokeh = get_bokeh(root)\n",
       "    await Bokeh.embed.embed_items_notebook(docs_json, render_items);\n",
       "    for (const render_item of render_items) {\n",
       "      for (const root_id of render_item.root_ids) {\n",
       "\tconst id_el = document.getElementById(root_id)\n",
       "\tif (id_el.children.length && id_el.children[0].hasAttribute('data-root-id')) {\n",
       "\t  const root_el = id_el.children[0]\n",
       "\t  root_el.id = root_el.id + '-rendered'\n",
       "\t  for (const child of root_el.children) {\n",
       "            // Ensure JupyterLab does not capture keyboard shortcuts\n",
       "            // see: https://jupyterlab.readthedocs.io/en/4.1.x/extension/notebook.html#keyboard-interaction-model\n",
       "\t    child.setAttribute('data-lm-suppress-shortcuts', 'true')\n",
       "\t  }\n",
       "\t}\n",
       "      }\n",
       "    }\n",
       "  }\n",
       "  function get_bokeh(root) {\n",
       "    if (root.Bokeh === undefined) {\n",
       "      return null\n",
       "    } else if (root.Bokeh.version !== py_version) {\n",
       "      if (root.Bokeh.versions === undefined || !root.Bokeh.versions.has(py_version)) {\n",
       "\treturn null\n",
       "      }\n",
       "      return root.Bokeh.versions.get(py_version);\n",
       "    } else if (root.Bokeh.version === py_version) {\n",
       "      return root.Bokeh\n",
       "    }\n",
       "    return null\n",
       "  }\n",
       "  function is_loaded(root) {\n",
       "    var Bokeh = get_bokeh(root)\n",
       "    return (Bokeh != null && Bokeh.Panel !== undefined)\n",
       "  }\n",
       "  if (is_loaded(root)) {\n",
       "    embed_document(root);\n",
       "  } else {\n",
       "    var attempts = 0;\n",
       "    var timer = setInterval(function(root) {\n",
       "      if (is_loaded(root)) {\n",
       "        clearInterval(timer);\n",
       "        embed_document(root);\n",
       "      } else if (document.readyState == \"complete\") {\n",
       "        attempts++;\n",
       "        if (attempts > 200) {\n",
       "          clearInterval(timer);\n",
       "\t  var Bokeh = get_bokeh(root)\n",
       "\t  if (Bokeh == null || Bokeh.Panel == null) {\n",
       "            console.warn(\"Panel: ERROR: Unable to run Panel code because Bokeh or Panel library is missing\");\n",
       "\t  } else {\n",
       "\t    console.warn(\"Panel: WARNING: Attempting to render but not all required libraries could be resolved.\")\n",
       "\t    embed_document(root)\n",
       "\t  }\n",
       "        }\n",
       "      }\n",
       "    }, 25, root)\n",
       "  }\n",
       "})(window);</script>"
      ],
      "text/plain": [
       ":Overlay\n",
       "   .WMTS.I   :WMTS   [Longitude,Latitude]\n",
       "   .Points.I :Points   [Lng,Lat]   (Country,City,Hotel Name,Humidity)"
      ]
     },
     "execution_count": 18,
     "metadata": {
      "application/vnd.holoviews_exec.v0+json": {
       "id": "p1405"
      }
     },
     "output_type": "execute_result"
    }
   ],
   "source": [
    "%%capture --no-display\n",
    "\n",
    "# Configure the map plot\n",
    "geoview_dataset = gv.Dataset(hotel_df, kdims=['City', 'Humidity'])\n",
    "points = geoview_dataset.to(gv.Points, ['Lng', 'Lat'], ['Country', 'City', 'Hotel Name', 'Humidity'])\n",
    "osm_map = gv.tile_sources.OSM\n",
    "#Changed humidity scale to make the smaller values in this plot more readable.\n",
    "osm_map.opts(width=1200, height=700) * points.opts(tools=['hover'], size=dim('Humidity')*0.2, color='black', fill_color='City', cmap='gist_rainbow', alpha=0.6)"
   ]
  },
  {
   "cell_type": "code",
   "execution_count": null,
   "metadata": {},
   "outputs": [],
   "source": []
  }
 ],
 "metadata": {
  "kernelspec": {
   "display_name": "Python 3 (ipykernel)",
   "language": "python",
   "name": "python3"
  },
  "language_info": {
   "codemirror_mode": {
    "name": "ipython",
    "version": 3
   },
   "file_extension": ".py",
   "mimetype": "text/x-python",
   "name": "python",
   "nbconvert_exporter": "python",
   "pygments_lexer": "ipython3",
   "version": "3.12.3"
  },
  "latex_envs": {
   "LaTeX_envs_menu_present": true,
   "autoclose": false,
   "autocomplete": true,
   "bibliofile": "biblio.bib",
   "cite_by": "apalike",
   "current_citInitial": 1,
   "eqLabelWithNumbers": true,
   "eqNumInitial": 1,
   "hotkeys": {
    "equation": "Ctrl-E",
    "itemize": "Ctrl-I"
   },
   "labels_anchors": false,
   "latex_user_defs": false,
   "report_style_numbering": false,
   "user_envs_cfg": false
  }
 },
 "nbformat": 4,
 "nbformat_minor": 4
}
